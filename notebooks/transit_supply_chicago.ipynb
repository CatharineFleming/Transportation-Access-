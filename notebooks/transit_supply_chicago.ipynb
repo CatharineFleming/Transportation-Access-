{
 "cells": [
  {
   "cell_type": "code",
   "execution_count": null,
   "id": "9032b5d9-f686-4176-85a4-7884358feaac",
   "metadata": {
    "scrolled": true
   },
   "outputs": [],
   "source": [
    "#Install libraries as needed\n",
    "!pip install gtfs_functions\n",
    "!pip install gtfs_kit"
   ]
  },
  {
   "cell_type": "code",
   "execution_count": null,
   "id": "94fc4cac-fd3f-4b2a-b9d9-93dd2d749f00",
   "metadata": {},
   "outputs": [],
   "source": [
    "#import packages\n",
    "from gtfs_functions import Feed\n",
    "import gtfs_kit as gk\n",
    "import geopandas as gpd\n",
    "import numpy as np\n",
    "import pandas as pd\n",
    "from shapely.ops import unary_union\n",
    "import matplotlib.pyplot as plt"
   ]
  },
  {
   "cell_type": "markdown",
   "id": "cf154386-310e-49ab-86bb-077b8fcce598",
   "metadata": {},
   "source": [
    "## Import Data\n",
    "#### Import GTFS "
   ]
  },
  {
   "cell_type": "code",
   "execution_count": null,
   "id": "13765d24-c13e-482a-8d77-00f1510e38d3",
   "metadata": {},
   "outputs": [],
   "source": [
    "#Bring in GTFS data using gtfs_functions\n",
    "\n",
    "#Change path to local GTFS zip\n",
    "gtfs_path = r\"C:\\Users\\cathk\\GEOG490\\google_transit.zip\"\n",
    "feed = Feed(gtfs_path, time_windows=[0, 6, 10, 12, 16, 19, 24])"
   ]
  },
  {
   "cell_type": "code",
   "execution_count": null,
   "id": "c301558c-b38d-4177-abc0-5e32e1a89338",
   "metadata": {},
   "outputs": [],
   "source": [
    "#Bring in GTFS .txt files using feed\n",
    "routes = feed.routes\n",
    "trips = feed.trips\n",
    "stops = feed.stops\n",
    "stop_times = feed.stop_times\n",
    "shapes = feed.shapes\n",
    "calendar = feed.calendar"
   ]
  },
  {
   "cell_type": "markdown",
   "id": "fdd704b9-0de0-4e3c-b15f-de39a3a11be7",
   "metadata": {},
   "source": [
    "#### Import Census Tract data"
   ]
  },
  {
   "cell_type": "code",
   "execution_count": null,
   "id": "405dcbc0-1dbc-4002-b545-0d03b1def563",
   "metadata": {},
   "outputs": [],
   "source": [
    "#Change path to local tract shapefile\n",
    "tracts = gpd.read_file(r\"C:\\Users\\cathk\\Documents\\490Final\\Transportation-Access-\\data\\shapefiles\\tl_2021_17_tract.shp\")\n",
    "\n",
    "#Get county Census tract\n",
    "county_tracts = tracts[tracts['COUNTYFP'] == '031']\n",
    "\n",
    "#Reproject county tracts to UTM for the city\n",
    "county_tracts = county_tracts.to_crs(\"EPSG:32616\")"
   ]
  },
  {
   "cell_type": "code",
   "execution_count": null,
   "id": "42094686-1d3a-433e-9920-0ccbc23aa71e",
   "metadata": {},
   "outputs": [],
   "source": [
    "# Extract needed columns\n",
    "county_tracts = county_tracts[['TRACTCE','ALAND','AWATER','geometry']]"
   ]
  },
  {
   "cell_type": "markdown",
   "id": "4cfec5ec-06f0-4b1f-9d15-3f06d6f29f79",
   "metadata": {},
   "source": [
    "# Transit Factors and Indicators"
   ]
  },
  {
   "cell_type": "markdown",
   "id": "3c98da16-67c0-43a2-b875-8eb6fd72e49e",
   "metadata": {},
   "source": [
    "### Factor: Connectivity to the Network\n",
    "##### Indicators: Bus stop service coverage area, density of bus stops, route coverage, ADA accessibility"
   ]
  },
  {
   "cell_type": "markdown",
   "id": "fa50f000-2654-4981-8157-cc610c54f67f",
   "metadata": {},
   "source": [
    "#### Indicator: Bus stop service coverage area\n",
    "Bus stop service coverage area is determined by finding the sum of the service coverage areas of bus stops in a Census tract divided by the total area of the Census tract.\n",
    "\n",
    " - Service coverage areas are 400m radius buffers from each bus stop. Here overlapping areas are counted one time.\n"
   ]
  },
  {
   "cell_type": "code",
   "execution_count": null,
   "id": "7fad3c5c-93c4-449a-b702-96a10cd3f17d",
   "metadata": {},
   "outputs": [],
   "source": [
    "# Bring in the bus stops\n",
    "stops = feed.stops\n",
    "\n",
    "#Reproject the bus stops to UTM\n",
    "stops_reproject = stops.to_crs(\"EPSG:32616\")\n",
    "\n",
    "#buffer stops \n",
    "buffer_distance = 400 #meters\n",
    "stops_buffered = stops_reproject.buffer(buffer_distance)\n",
    "\n",
    "#Convert buffered stops geoseries to a geodataframe\n",
    "stops_buffered_gdf = gpd.GeoDataFrame(geometry=stops_buffered)"
   ]
  },
  {
   "cell_type": "code",
   "execution_count": null,
   "id": "0053e4c1-329e-4f08-bddf-65e3d375ba9e",
   "metadata": {},
   "outputs": [],
   "source": [
    "# Calculate the areas\n",
    "county_tracts['area'] = county_tracts.geometry.area"
   ]
  },
  {
   "cell_type": "code",
   "execution_count": null,
   "id": "59efe730-ea28-4654-815d-b5f737368c0a",
   "metadata": {},
   "outputs": [],
   "source": [
    "# Merge all the polygons into a single polygon\n",
    "merged_polygon = unary_union(stops_buffered_gdf.geometry)\n",
    "\n",
    "# Create a new GeoDataFrame with the merged polygon\n",
    "merged_gdf = gpd.GeoDataFrame(geometry=[merged_polygon])\n",
    "\n",
    "# Reset the index \n",
    "merged_gdf.reset_index(drop=True, inplace=True)\n"
   ]
  },
  {
   "cell_type": "code",
   "execution_count": null,
   "id": "be761546-c3de-4b16-ab60-5e8b49055c3e",
   "metadata": {},
   "outputs": [],
   "source": [
    "# Create an empty list to store the results\n",
    "area_covered_list = []\n",
    "\n",
    "# Iterate over each row in gdf2\n",
    "for _, row in county_tracts.iterrows():\n",
    "    # Calculate the intersection between the row geometry of gdf2 and the geometries in gdf1\n",
    "    intersection = merged_gdf.intersection(row.geometry)\n",
    "    \n",
    "    # Calculate the total area of the intersection\n",
    "    total_intersection_area = intersection.area.sum()\n",
    "    \n",
    "    # Append the total intersection area to the list\n",
    "    area_covered_list.append(total_intersection_area)\n",
    "\n",
    "# Add the area_covered_list as a new column to gdf2\n",
    "county_tracts['area_covered'] = area_covered_list\n",
    "\n"
   ]
  },
  {
   "cell_type": "code",
   "execution_count": null,
   "id": "dd3ed7fa-a04b-497a-8c4c-1199a8b327da",
   "metadata": {},
   "outputs": [],
   "source": [
    "# Get the service coverage area by dividing the area_covered by the total area of the tract\n",
    "county_tracts['service_coverage']=county_tracts['area_covered']/county_tracts['area']"
   ]
  },
  {
   "cell_type": "markdown",
   "id": "3835fa73-e3c1-4b5d-9877-d9dd920a12d5",
   "metadata": {},
   "source": [
    "#### Indicator: Density of bus stops\n",
    "The density of bus stops is determined by dividing the number of bus stops in a census tract by the area of the census tract"
   ]
  },
  {
   "cell_type": "code",
   "execution_count": null,
   "id": "b9f2324d-44f5-4506-ad93-e4718e983509",
   "metadata": {},
   "outputs": [],
   "source": [
    "# Ensure that the TRACTCE column is the same type as in the GTFS data\n",
    "county_tracts['TRACTCE'] = county_tracts['TRACTCE'].astype(int)"
   ]
  },
  {
   "cell_type": "code",
   "execution_count": null,
   "id": "c7890384-df11-469a-824e-c2b3924e0b82",
   "metadata": {},
   "outputs": [],
   "source": [
    "# Get the number of bus stops in a census tract\n",
    "stops_county = stops_reproject.sjoin(county_tracts, how=\"left\")\n",
    "\n",
    "# Calculate the area\n",
    "stops_county['area'] = stops_county['geometry'].area\n",
    "\n",
    "# Get the unique counties in the bus stops gdf and count the bus stops in each.\n",
    "unique, counts = np.unique(stops_county['TRACTCE'], return_counts=True)\n",
    "dict(zip(unique, counts))\n",
    "\n",
    "# Turn the unique counts dictionary into a gdf\n",
    "busstopsincounty = gpd.GeoDataFrame(list(zip(unique, counts)), \n",
    "                       columns=['TRACTCE', 'bus_stops'])\n",
    "\n",
    "# Merge the number of bus stops gdf with the county_tracts gdf\n",
    "county_tracts = county_tracts.merge(busstopsincounty, on='TRACTCE', how='left')\n",
    "\n",
    "# Calculate the density of bus stops by dividing the number of bus stops by the area of each census tract\n",
    "county_tracts['density_bstops'] = county_tracts['bus_stops']/county_tracts['area']"
   ]
  },
  {
   "cell_type": "markdown",
   "id": "8838ccdd-a0f3-4b5c-a306-ae232aa022f9",
   "metadata": {},
   "source": [
    "#### Indicator: Route coverage\n",
    "Route coverage quantifies the distribution and density of bus routes throughout the street network of the Census tract. This metric is calculated by taking the sum of the lengths of all routes in a census tract and dividing this by the sum of the length of the street network throughout the tract."
   ]
  },
  {
   "cell_type": "code",
   "execution_count": null,
   "id": "eda2186b-5dc5-4dca-9241-f2f6eddc11cc",
   "metadata": {},
   "outputs": [],
   "source": [
    "# Load the GTFS feed into a Feed object\n",
    "feed = gk.read_feed(gtfs_path,dist_units='mi')"
   ]
  },
  {
   "cell_type": "code",
   "execution_count": null,
   "id": "a21f07cf-c3a7-4ae5-83f0-53014d19ff6e",
   "metadata": {},
   "outputs": [],
   "source": [
    "# Use the geometrize_routes function from gtfs_kits to get the geometry of the routes\n",
    "routesgeom = gk.routes.geometrize_routes(feed)"
   ]
  },
  {
   "cell_type": "code",
   "execution_count": null,
   "id": "b7e1c39c-4098-4a35-886d-4b25fcfbb676",
   "metadata": {},
   "outputs": [],
   "source": [
    "# Set the crs of the geometrized routes based on the stored geometry values\n",
    "routesgeom.crs = \"EPSG:4326\" \n",
    "\n",
    "#Reproject the routes to UTM fo the city\n",
    "routes_reproject = routesgeom.to_crs(\"EPSG:32616\")"
   ]
  },
  {
   "cell_type": "code",
   "execution_count": null,
   "id": "44b61977-84f2-44ef-a3b2-b4f6b4553db7",
   "metadata": {},
   "outputs": [],
   "source": [
    "# Get bus routes (type 3)\n",
    "routes_reproject = routes_reproject[routes_reproject['route_type'] == 3]"
   ]
  },
  {
   "cell_type": "code",
   "execution_count": null,
   "id": "079fec3f-803c-4dda-9854-291d5e9b141c",
   "metadata": {},
   "outputs": [],
   "source": [
    "# Sum length of bus routes in each tract\n",
    "\n",
    "# Perform a spatial join to get the lines that intersect with the polygons\n",
    "lines_within_polygons = gpd.overlay(routes_reproject, county_tracts, how='intersection')\n",
    "\n",
    "# Calculate the length of the resulting LineStrings\n",
    "lines_within_polygons['length'] = lines_within_polygons.geometry.length\n",
    "\n",
    "# Group by 'TRACTCE' to handle unique polygons and calculate the sum of the lengths for each\n",
    "total_length_within_polygons = lines_within_polygons.groupby('TRACTCE')['length'].sum().reset_index()\n",
    "\n",
    "# Rename the 'length' column to 'routesum'\n",
    "total_length_within_polygons.rename(columns={'length': 'routesum'}, inplace=True)"
   ]
  },
  {
   "cell_type": "code",
   "execution_count": null,
   "id": "f27b9c4f-8e5a-48e5-acf0-fa73524b1740",
   "metadata": {},
   "outputs": [],
   "source": [
    "# Merge the routesum into the tracts gdf\n",
    "county_tracts = county_tracts.merge(total_length_within_polygons, on='TRACTCE', how='left')"
   ]
  },
  {
   "cell_type": "code",
   "execution_count": null,
   "id": "aaaeb9a8-99bd-4166-8e0c-4a9d1d7a5b3a",
   "metadata": {},
   "outputs": [],
   "source": [
    "'''\n",
    "Takes too long to run \n",
    "\n",
    "import osmnx as ox\n",
    "import geopandas as gpd\n",
    "\n",
    "# Define  ity or region of interest\n",
    "place_name = \"Chicago, Illinois, USA\"\n",
    "\n",
    "network_lengths = []\n",
    "for geometry in county_tracts['geometry']:\n",
    "\n",
    "    \n",
    "    # Retrieve the street network within the boundary of the Census Tract\n",
    "    G = ox.graph_from_polygon(geometry, network_type='all')\n",
    "    \n",
    "     # Calculate the basic statistics of the street network within the Census Tract\n",
    "    stats = ox.stats.basic_stats(G)\n",
    "    \n",
    "    # Extract the total length of the street network within the Census Tract\n",
    "    total_length = stats['edge_length_total']\n",
    "    \n",
    "    network_lengths.append(total_length)\n",
    "\n",
    "    print(\"count\")\n",
    "county_tracts['net_len'] = network_lengths\n",
    "\n",
    "countforarea['route_covg'] = countforarea['routesum']/countforarea['net_len']\n",
    "'''"
   ]
  },
  {
   "cell_type": "markdown",
   "id": "6bd122a2-d24d-4c8c-8b60-78ce5aa6dd93",
   "metadata": {},
   "source": [
    "#### Indicator: ADA accessibility\n",
    "Here the number of stops with ADA ramps is used as a proxy for system-wide accesibility. The number of stops with ADA ramps is used here."
   ]
  },
  {
   "cell_type": "code",
   "execution_count": null,
   "id": "f64e6751-99a1-4d19-929f-f7b767b6b8cd",
   "metadata": {},
   "outputs": [],
   "source": [
    "# Get the number of bus stops in a census tract\n",
    "# Spatially join stops and census tracts\n",
    "stops_county = gpd.sjoin(stops_reproject, county_tracts, how=\"left\")\n",
    "\n",
    "# Convert 'wheelchair_boarding' column to integer\n",
    "stops_county['wheelchair_boarding'] = stops_county['wheelchair_boarding'].astype(int)\n",
    "\n",
    "# Filter stops with wheelchair value of 1\n",
    "wheelchair_stops = stops_county[stops_county['wheelchair_boarding'] == 1]\n",
    "\n",
    "# Count the number of wheelchair stops within each census tract\n",
    "wheelchair_stops_count = wheelchair_stops.groupby('TRACTCE').size().reset_index(name='wheelchair_stops')\n",
    "\n",
    "# Ensure all census tracts are included in the result and replace null values with 0\n",
    "all_tracts = county_tracts['TRACTCE']\n",
    "wheelchair_stops_count = all_tracts.merge(wheelchair_stops_count, on='TRACTCE', how='left').fillna(0)\n",
    "\n",
    "# Merge the counts with the county_tracts GeoDataFrame\n",
    "county_tractsalt = county_tracts.merge(wheelchair_stops_count, on='TRACTCE', how='left')"
   ]
  },
  {
   "cell_type": "markdown",
   "id": "0ee855fb-0ee2-4b77-9856-815e85e2d714",
   "metadata": {},
   "source": [
    "## Create scores from transit supply indicators"
   ]
  },
  {
   "cell_type": "code",
   "execution_count": null,
   "id": "2ebadf93-f46f-4f2e-85bc-2763e5719d22",
   "metadata": {},
   "outputs": [],
   "source": [
    "from scipy.stats import zscore"
   ]
  },
  {
   "cell_type": "code",
   "execution_count": null,
   "id": "a8d1e387-d7e4-4c65-be76-57f0823e4dad",
   "metadata": {},
   "outputs": [],
   "source": [
    "# Remove tracts with null values\n",
    "county_dropped = county_tracts.dropna()"
   ]
  },
  {
   "cell_type": "code",
   "execution_count": null,
   "id": "bfc391ae-8530-49a5-a5f5-bd28e63449da",
   "metadata": {},
   "outputs": [],
   "source": [
    "# Standarize Data\n",
    "columns_to_standardize = ['service_coverage','density_bstops','routesum','wheelchair_stops']\n",
    "\n",
    "# Calculate z-scores for the specified columns\n",
    "county_dropped[columns_to_standardize] = county_dropped[columns_to_standardize].apply(zscore)"
   ]
  },
  {
   "cell_type": "code",
   "execution_count": null,
   "id": "34bffeee-263f-4ea6-abf5-4b271f927eca",
   "metadata": {},
   "outputs": [],
   "source": [
    "# Sum the z-scores across the specified columns\n",
    "county_dropped['transit_supply_score'] = county_dropped[columns_to_standardize].sum(axis=1)"
   ]
  },
  {
   "cell_type": "code",
   "execution_count": null,
   "id": "4082fb0c-db1f-473b-aa0c-b1d394f85980",
   "metadata": {},
   "outputs": [],
   "source": [
    "# Group the transit supply scores into quartiles\n",
    "county_dropped['quartile'] = pd.qcut(county_dropped['transit_supply_score'], 4, labels=['Low', 'Moderate-Low', 'Moderate-High', 'High'])"
   ]
  },
  {
   "cell_type": "code",
   "execution_count": null,
   "id": "63aca108-f492-4829-a67c-62e30b6f817c",
   "metadata": {},
   "outputs": [],
   "source": [
    "# Make the quartile df into a gdf\n",
    "gdf = gpd.GeoDataFrame(county_dropped, geometry=county_dropped['geometry'])"
   ]
  },
  {
   "cell_type": "code",
   "execution_count": null,
   "id": "5424dff4-c9d5-4548-889a-41a4f2ef6e27",
   "metadata": {},
   "outputs": [],
   "source": [
    "gdf"
   ]
  },
  {
   "cell_type": "code",
   "execution_count": null,
   "id": "c33509da-863c-4795-a6a3-f8f97f3d8c3d",
   "metadata": {
    "scrolled": true
   },
   "outputs": [],
   "source": [
    "# Convert the categorical column to a string\n",
    "gdf['quartile'] = gdf['quartile'].astype(str)\n",
    "\n",
    "\n",
    "gdf.to_file(r\"C:\\Users\\cathk\\GEOG490\\chicago_transit_supply.shp\")\n"
   ]
  },
  {
   "cell_type": "code",
   "execution_count": null,
   "id": "7e389535-9a79-44d7-88b7-e653be19384d",
   "metadata": {},
   "outputs": [],
   "source": [
    "# Plot census tracts by transit supply quartile\n",
    "\n",
    "# Ensure 'quartile' column exists and contains the expected values\n",
    "print(gdf['quartile'].value_counts())\n",
    "\n",
    "# Define a color map for the quartiles\n",
    "quartile_colors = {\n",
    "    'Low': 'blue',\n",
    "    'Moderate-Low': 'cyan',\n",
    "    'Moderate-High': 'orange',\n",
    "    'High': 'red'\n",
    "}\n",
    "\n",
    "# Plot the GeoDataFrame with the specified colors for quartiles\n",
    "fig, ax = plt.subplots(1, 1, figsize=(10, 10))\n",
    "\n",
    "gdf.plot(column='quartile', \n",
    "         ax=ax, \n",
    "         legend=True,\n",
    "         legend_kwds={'title': \"Transit Supply Quartiles\"},\n",
    "         color=[quartile_colors[q] for q in gdf['quartile']])\n",
    "\n",
    "# Add a title and axes labels\n",
    "ax.set_title('Transit Supply by Census Tract')\n",
    "ax.set_axis_off()\n",
    "\n",
    "# Show the plot\n",
    "plt.show()"
   ]
  }
 ],
 "metadata": {
  "kernelspec": {
   "display_name": "Python 3 (ipykernel)",
   "language": "python",
   "name": "python3"
  },
  "language_info": {
   "codemirror_mode": {
    "name": "ipython",
    "version": 3
   },
   "file_extension": ".py",
   "mimetype": "text/x-python",
   "name": "python",
   "nbconvert_exporter": "python",
   "pygments_lexer": "ipython3",
   "version": "3.8.17"
  }
 },
 "nbformat": 4,
 "nbformat_minor": 5
}
