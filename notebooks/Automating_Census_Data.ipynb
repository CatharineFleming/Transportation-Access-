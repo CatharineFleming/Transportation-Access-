{
 "cells": [
  {
   "cell_type": "markdown",
   "id": "81dbf84b-4f03-4159-8af2-18153b4a7e10",
   "metadata": {},
   "source": [
    "## Let's Try to Automate Census Data Collection"
   ]
  },
  {
   "cell_type": "code",
   "execution_count": 10,
   "id": "6e4eb63b-b920-4dc9-a8e9-09184b582106",
   "metadata": {},
   "outputs": [
    {
     "name": "stdout",
     "output_type": "stream",
     "text": [
      "Fetching data for Los Angeles County, California\n"
     ]
    },
    {
     "name": "stderr",
     "output_type": "stream",
     "text": [
      "/var/folders/k0/h5py5g_54n59fry_574rv1h40000gp/T/ipykernel_56282/463957549.py:98: FutureWarning: Downcasting object dtype arrays on .fillna, .ffill, .bfill is deprecated and will change in a future version. Call result.infer_objects(copy=False) instead. To opt-in to the future behavior, set `pd.set_option('future.no_silent_downcasting', True)`\n",
      "  data = data.fillna(0)\n"
     ]
    },
    {
     "name": "stdout",
     "output_type": "stream",
     "text": [
      "Fetching data for New York County, New York\n"
     ]
    },
    {
     "name": "stderr",
     "output_type": "stream",
     "text": [
      "/var/folders/k0/h5py5g_54n59fry_574rv1h40000gp/T/ipykernel_56282/463957549.py:98: FutureWarning: Downcasting object dtype arrays on .fillna, .ffill, .bfill is deprecated and will change in a future version. Call result.infer_objects(copy=False) instead. To opt-in to the future behavior, set `pd.set_option('future.no_silent_downcasting', True)`\n",
      "  data = data.fillna(0)\n"
     ]
    },
    {
     "name": "stdout",
     "output_type": "stream",
     "text": [
      "Fetching data for Kings County, New York\n"
     ]
    },
    {
     "name": "stderr",
     "output_type": "stream",
     "text": [
      "/var/folders/k0/h5py5g_54n59fry_574rv1h40000gp/T/ipykernel_56282/463957549.py:98: FutureWarning: Downcasting object dtype arrays on .fillna, .ffill, .bfill is deprecated and will change in a future version. Call result.infer_objects(copy=False) instead. To opt-in to the future behavior, set `pd.set_option('future.no_silent_downcasting', True)`\n",
      "  data = data.fillna(0)\n"
     ]
    },
    {
     "name": "stdout",
     "output_type": "stream",
     "text": [
      "Fetching data for Bronx County, New York\n"
     ]
    },
    {
     "name": "stderr",
     "output_type": "stream",
     "text": [
      "/var/folders/k0/h5py5g_54n59fry_574rv1h40000gp/T/ipykernel_56282/463957549.py:98: FutureWarning: Downcasting object dtype arrays on .fillna, .ffill, .bfill is deprecated and will change in a future version. Call result.infer_objects(copy=False) instead. To opt-in to the future behavior, set `pd.set_option('future.no_silent_downcasting', True)`\n",
      "  data = data.fillna(0)\n"
     ]
    },
    {
     "name": "stdout",
     "output_type": "stream",
     "text": [
      "Fetching data for Cook County, Illinois\n"
     ]
    },
    {
     "name": "stderr",
     "output_type": "stream",
     "text": [
      "/var/folders/k0/h5py5g_54n59fry_574rv1h40000gp/T/ipykernel_56282/463957549.py:98: FutureWarning: Downcasting object dtype arrays on .fillna, .ffill, .bfill is deprecated and will change in a future version. Call result.infer_objects(copy=False) instead. To opt-in to the future behavior, set `pd.set_option('future.no_silent_downcasting', True)`\n",
      "  data = data.fillna(0)\n"
     ]
    },
    {
     "name": "stdout",
     "output_type": "stream",
     "text": [
      "Fetching data for Harris County, Texas\n"
     ]
    },
    {
     "name": "stderr",
     "output_type": "stream",
     "text": [
      "/var/folders/k0/h5py5g_54n59fry_574rv1h40000gp/T/ipykernel_56282/463957549.py:98: FutureWarning: Downcasting object dtype arrays on .fillna, .ffill, .bfill is deprecated and will change in a future version. Call result.infer_objects(copy=False) instead. To opt-in to the future behavior, set `pd.set_option('future.no_silent_downcasting', True)`\n",
      "  data = data.fillna(0)\n"
     ]
    },
    {
     "name": "stdout",
     "output_type": "stream",
     "text": [
      "Fetching data for Dallas County, Texas\n"
     ]
    },
    {
     "name": "stderr",
     "output_type": "stream",
     "text": [
      "/var/folders/k0/h5py5g_54n59fry_574rv1h40000gp/T/ipykernel_56282/463957549.py:98: FutureWarning: Downcasting object dtype arrays on .fillna, .ffill, .bfill is deprecated and will change in a future version. Call result.infer_objects(copy=False) instead. To opt-in to the future behavior, set `pd.set_option('future.no_silent_downcasting', True)`\n",
      "  data = data.fillna(0)\n"
     ]
    },
    {
     "name": "stdout",
     "output_type": "stream",
     "text": [
      "Fetching data for Maricopa County, Arizona\n"
     ]
    },
    {
     "name": "stderr",
     "output_type": "stream",
     "text": [
      "/var/folders/k0/h5py5g_54n59fry_574rv1h40000gp/T/ipykernel_56282/463957549.py:98: FutureWarning: Downcasting object dtype arrays on .fillna, .ffill, .bfill is deprecated and will change in a future version. Call result.infer_objects(copy=False) instead. To opt-in to the future behavior, set `pd.set_option('future.no_silent_downcasting', True)`\n",
      "  data = data.fillna(0)\n",
      "/var/folders/k0/h5py5g_54n59fry_574rv1h40000gp/T/ipykernel_56282/463957549.py:162: UserWarning: Column names longer than 10 characters will be truncated when saved to ESRI Shapefile.\n",
      "  final_gdf.to_file('census_data_all_counties.shp', driver='ESRI Shapefile')\n",
      "/Users/annekebrouwer/.gds/lib/python3.12/site-packages/pyogrio/raw.py:530: RuntimeWarning: Normalized/laundered field name: 'Total_Population' to 'Total_Popu'\n",
      "  ogr_write(\n",
      "/Users/annekebrouwer/.gds/lib/python3.12/site-packages/pyogrio/raw.py:530: RuntimeWarning: Normalized/laundered field name: 'Native_American_Alaska_Native' to 'Native_Ame'\n",
      "  ogr_write(\n",
      "/Users/annekebrouwer/.gds/lib/python3.12/site-packages/pyogrio/raw.py:530: RuntimeWarning: Normalized/laundered field name: 'Native_Hawaiian_Pacific_Islander' to 'Native_Haw'\n",
      "  ogr_write(\n",
      "/Users/annekebrouwer/.gds/lib/python3.12/site-packages/pyogrio/raw.py:530: RuntimeWarning: Normalized/laundered field name: 'Two_or_more_races' to 'Two_or_mor'\n",
      "  ogr_write(\n",
      "/Users/annekebrouwer/.gds/lib/python3.12/site-packages/pyogrio/raw.py:530: RuntimeWarning: Normalized/laundered field name: 'Median_Household_Income' to 'Median_Hou'\n",
      "  ogr_write(\n",
      "/Users/annekebrouwer/.gds/lib/python3.12/site-packages/pyogrio/raw.py:530: RuntimeWarning: Normalized/laundered field name: 'Labor_Force' to 'Labor_Forc'\n",
      "  ogr_write(\n",
      "/Users/annekebrouwer/.gds/lib/python3.12/site-packages/pyogrio/raw.py:530: RuntimeWarning: Normalized/laundered field name: 'Total_Commute' to 'Total_Comm'\n",
      "  ogr_write(\n",
      "/Users/annekebrouwer/.gds/lib/python3.12/site-packages/pyogrio/raw.py:530: RuntimeWarning: Normalized/laundered field name: 'Commute_Drove_Alone' to 'Commute_Dr'\n",
      "  ogr_write(\n",
      "/Users/annekebrouwer/.gds/lib/python3.12/site-packages/pyogrio/raw.py:530: RuntimeWarning: Normalized/laundered field name: 'Commute_Public_Transportation' to 'Commute_Pu'\n",
      "  ogr_write(\n",
      "/Users/annekebrouwer/.gds/lib/python3.12/site-packages/pyogrio/raw.py:530: RuntimeWarning: Normalized/laundered field name: 'Median_Gross_Rent' to 'Median_Gro'\n",
      "  ogr_write(\n",
      "/Users/annekebrouwer/.gds/lib/python3.12/site-packages/pyogrio/raw.py:530: RuntimeWarning: Normalized/laundered field name: 'Not_a_US_Citizen' to 'Not_a_US_C'\n",
      "  ogr_write(\n",
      "/Users/annekebrouwer/.gds/lib/python3.12/site-packages/pyogrio/raw.py:530: RuntimeWarning: Normalized/laundered field name: 'Education_status' to 'Education_'\n",
      "  ogr_write(\n",
      "/Users/annekebrouwer/.gds/lib/python3.12/site-packages/pyogrio/raw.py:530: RuntimeWarning: Normalized/laundered field name: 'Total_Population_25_and_Over' to 'Total_Po_1'\n",
      "  ogr_write(\n",
      "/Users/annekebrouwer/.gds/lib/python3.12/site-packages/pyogrio/raw.py:530: RuntimeWarning: Normalized/laundered field name: 'Female_Total' to 'Female_Tot'\n",
      "  ogr_write(\n",
      "/Users/annekebrouwer/.gds/lib/python3.12/site-packages/pyogrio/raw.py:530: RuntimeWarning: Normalized/laundered field name: 'Male_High_School_Graduate' to 'Male_High_'\n",
      "  ogr_write(\n",
      "/Users/annekebrouwer/.gds/lib/python3.12/site-packages/pyogrio/raw.py:530: RuntimeWarning: Normalized/laundered field name: 'Female_High_School_Graduate' to 'Female_Hig'\n",
      "  ogr_write(\n",
      "/Users/annekebrouwer/.gds/lib/python3.12/site-packages/pyogrio/raw.py:530: RuntimeWarning: Normalized/laundered field name: 'Male_Bachelor_Degree' to 'Male_Bache'\n",
      "  ogr_write(\n",
      "/Users/annekebrouwer/.gds/lib/python3.12/site-packages/pyogrio/raw.py:530: RuntimeWarning: Normalized/laundered field name: 'Female_Bachelor_Degree' to 'Female_Bac'\n",
      "  ogr_write(\n",
      "/Users/annekebrouwer/.gds/lib/python3.12/site-packages/pyogrio/raw.py:530: RuntimeWarning: Normalized/laundered field name: 'Male_Master_Degree' to 'Male_Maste'\n",
      "  ogr_write(\n",
      "/Users/annekebrouwer/.gds/lib/python3.12/site-packages/pyogrio/raw.py:530: RuntimeWarning: Normalized/laundered field name: 'Female_Master_Degree' to 'Female_Mas'\n",
      "  ogr_write(\n",
      "/Users/annekebrouwer/.gds/lib/python3.12/site-packages/pyogrio/raw.py:530: RuntimeWarning: Normalized/laundered field name: 'B11005_001E' to 'B11005_001'\n",
      "  ogr_write(\n",
      "/Users/annekebrouwer/.gds/lib/python3.12/site-packages/pyogrio/raw.py:530: RuntimeWarning: Normalized/laundered field name: 'Households_with_Own_Children_Under_18' to 'Households'\n",
      "  ogr_write(\n",
      "/Users/annekebrouwer/.gds/lib/python3.12/site-packages/pyogrio/raw.py:530: RuntimeWarning: Normalized/laundered field name: 'Married_Couple_Families_with_Own_Children_Under_18' to 'Married_Co'\n",
      "  ogr_write(\n",
      "/Users/annekebrouwer/.gds/lib/python3.12/site-packages/pyogrio/raw.py:530: RuntimeWarning: Normalized/laundered field name: 'Male_Householder_with_Own_Children_Under_18' to 'Male_House'\n",
      "  ogr_write(\n",
      "/Users/annekebrouwer/.gds/lib/python3.12/site-packages/pyogrio/raw.py:530: RuntimeWarning: Normalized/laundered field name: 'Female_Householder_with_Own_Children_Under_18' to 'Female_Hou'\n",
      "  ogr_write(\n",
      "/Users/annekebrouwer/.gds/lib/python3.12/site-packages/pyogrio/raw.py:530: RuntimeWarning: Normalized/laundered field name: 'B11007_001E' to 'B11007_001'\n",
      "  ogr_write(\n",
      "/Users/annekebrouwer/.gds/lib/python3.12/site-packages/pyogrio/raw.py:530: RuntimeWarning: Normalized/laundered field name: 'Households_with_One_or_More_People_65_and_Over' to 'Househol_1'\n",
      "  ogr_write(\n",
      "/Users/annekebrouwer/.gds/lib/python3.12/site-packages/pyogrio/raw.py:530: RuntimeWarning: Normalized/laundered field name: 'Family_Households_with_One_or_More_People_65_and_Over' to 'Family_Hou'\n",
      "  ogr_write(\n",
      "/Users/annekebrouwer/.gds/lib/python3.12/site-packages/pyogrio/raw.py:530: RuntimeWarning: Normalized/laundered field name: 'Nonfamily_Households_with_One_or_More_People_65_and_Over' to 'Nonfamily_'\n",
      "  ogr_write(\n",
      "/Users/annekebrouwer/.gds/lib/python3.12/site-packages/pyogrio/raw.py:530: RuntimeWarning: Normalized/laundered field name: 'Total_Population_5_and_Over' to 'Total_Po_2'\n",
      "  ogr_write(\n",
      "/Users/annekebrouwer/.gds/lib/python3.12/site-packages/pyogrio/raw.py:530: RuntimeWarning: Normalized/laundered field name: 'Speak_Only_English' to 'Speak_Only'\n",
      "  ogr_write(\n",
      "/Users/annekebrouwer/.gds/lib/python3.12/site-packages/pyogrio/raw.py:530: RuntimeWarning: Normalized/laundered field name: 'Speak_Other_Languages' to 'Speak_Othe'\n",
      "  ogr_write(\n",
      "/Users/annekebrouwer/.gds/lib/python3.12/site-packages/pyogrio/raw.py:530: RuntimeWarning: Normalized/laundered field name: 'Speak_Spanish' to 'Speak_Span'\n",
      "  ogr_write(\n",
      "/Users/annekebrouwer/.gds/lib/python3.12/site-packages/pyogrio/raw.py:530: RuntimeWarning: Normalized/laundered field name: 'Speak_French' to 'Speak_Fren'\n",
      "  ogr_write(\n",
      "/Users/annekebrouwer/.gds/lib/python3.12/site-packages/pyogrio/raw.py:530: RuntimeWarning: Normalized/laundered field name: 'Speak_Chinese' to 'Speak_Chin'\n",
      "  ogr_write(\n",
      "/Users/annekebrouwer/.gds/lib/python3.12/site-packages/pyogrio/raw.py:530: RuntimeWarning: Normalized/laundered field name: 'Speak_Korean' to 'Speak_Kore'\n",
      "  ogr_write(\n",
      "/Users/annekebrouwer/.gds/lib/python3.12/site-packages/pyogrio/raw.py:530: RuntimeWarning: Normalized/laundered field name: 'Speak_Vietnamese' to 'Speak_Viet'\n",
      "  ogr_write(\n",
      "/Users/annekebrouwer/.gds/lib/python3.12/site-packages/pyogrio/raw.py:530: RuntimeWarning: Normalized/laundered field name: 'Speak_Arabic' to 'Speak_Arab'\n",
      "  ogr_write(\n",
      "/Users/annekebrouwer/.gds/lib/python3.12/site-packages/pyogrio/raw.py:530: RuntimeWarning: Normalized/laundered field name: 'Total_Disability_Status' to 'Total_Disa'\n",
      "  ogr_write(\n",
      "/Users/annekebrouwer/.gds/lib/python3.12/site-packages/pyogrio/raw.py:530: RuntimeWarning: Normalized/laundered field name: 'Total_With_Disability' to 'Total_With'\n",
      "  ogr_write(\n",
      "/Users/annekebrouwer/.gds/lib/python3.12/site-packages/pyogrio/raw.py:530: RuntimeWarning: Normalized/laundered field name: 'Total_Without_Disability' to 'Total_Wi_1'\n",
      "  ogr_write(\n",
      "/Users/annekebrouwer/.gds/lib/python3.12/site-packages/pyogrio/raw.py:530: RuntimeWarning: Normalized/laundered field name: 'Total_Households' to 'Total_Hous'\n",
      "  ogr_write(\n",
      "/Users/annekebrouwer/.gds/lib/python3.12/site-packages/pyogrio/raw.py:530: RuntimeWarning: Normalized/laundered field name: 'Zero_vehicles_available' to 'Zero_vehic'\n",
      "  ogr_write(\n",
      "/Users/annekebrouwer/.gds/lib/python3.12/site-packages/pyogrio/raw.py:530: RuntimeWarning: Normalized/laundered field name: '1_vehicle_available' to '1_vehicle_'\n",
      "  ogr_write(\n",
      "/Users/annekebrouwer/.gds/lib/python3.12/site-packages/pyogrio/raw.py:530: RuntimeWarning: Normalized/laundered field name: 'State' to 'State_1'\n",
      "  ogr_write(\n",
      "/Users/annekebrouwer/.gds/lib/python3.12/site-packages/pyogrio/raw.py:530: RuntimeWarning: Normalized/laundered field name: 'County' to 'County_1'\n",
      "  ogr_write(\n"
     ]
    }
   ],
   "source": [
    "import geopandas as gpd\n",
    "import pandas as pd\n",
    "from census import Census\n",
    "from us import states\n",
    "from census.core import ACSClient\n",
    "from shapely.geometry import Point\n",
    "\n",
    "# Patch the ACSClient to handle 'long' data type\n",
    "def _field_type(self, field, year):\n",
    "    types = {\n",
    "        'int': int,\n",
    "        'float': float,\n",
    "        'string': str,\n",
    "        'long': int  # Add this line\n",
    "    }\n",
    "    return types.get(field, str)\n",
    "\n",
    "ACSClient._field_type = _field_type\n",
    "\n",
    "# Initialize Census API with your API key\n",
    "c = Census(\"5dc8bf38af7b9e4766c7afba29c4ab08c539ec5f\")\n",
    "\n",
    "# Define a function to fetch and process data for a given state and county\n",
    "def fetch_census_data(state_fips, county_fips):\n",
    "    data = c.acs5.state_county_tract(\n",
    "        fields=(\n",
    "            'B02001_001E', 'B02001_002E', 'B02001_003E', 'B02001_004E', 'B02001_005E', 'B02001_006E',\n",
    "            'B02001_007E', 'B02001_008E', 'B19013_001E', 'B23001_001E', 'B08141_001E', 'B08141_002E',\n",
    "            'B08141_016E', 'B23001_001E', 'B25064_001E', 'B05001_001E', 'B05001_006E', 'B15001_001E',\n",
    "            'B15002_001E', 'B15002_002E', 'B15002_019E', 'B15002_011E', 'B15002_028E', 'B15002_015E',\n",
    "            'B15002_032E', 'B15002_016E', 'B15002_033E', 'B11005_001E', 'B11005_003E', 'B11005_005E',\n",
    "            'B11005_008E', 'B11005_010E', 'B11007_001E', 'B11007_002E', 'B11007_004E', 'B11007_006E',\n",
    "            'B16001_001E', 'B16001_002E', 'B16001_003E', 'B16001_004E', 'B16001_007E', 'B16001_037E',\n",
    "            'B16001_043E', 'B16001_046E', 'B16001_064E', 'B18101_001E', 'B18101_002E', 'B18101_003E',\n",
    "            'B08201_001E', 'B08201_002E', 'B08201_003E'\n",
    "        ),  \n",
    "        state_fips=state_fips,\n",
    "        county_fips=county_fips,\n",
    "        tract='*'  # Get all tracts\n",
    "    )\n",
    "\n",
    "    # Convert the data to a DataFrame\n",
    "    data = pd.DataFrame(data)\n",
    "\n",
    "    # Rename the columns for better readability\n",
    "    data = data.rename(columns={\n",
    "        'B02001_001E': 'Total_Population',\n",
    "        'B02001_002E': 'White',\n",
    "        'B02001_003E': 'Black',\n",
    "        'B02001_004E': 'Native_American_Alaska_Native',\n",
    "        'B02001_005E': 'Asian',\n",
    "        'B02001_006E': 'Native_Hawaiian_Pacific_Islander',\n",
    "        'B02001_007E': 'Other',\n",
    "        'B02001_008E': 'Two_or_more_races',\n",
    "        'B19013_001E': 'Median_Household_Income',\n",
    "        'B23001_001E': 'Employed',\n",
    "        'B08141_001E': 'Total_Commute',\n",
    "        'B08141_002E': 'Commute_Drove_Alone',\n",
    "        'B08141_016E': 'Commute_Public_Transportation',\n",
    "        'B08201_001E': 'Total_Households',\n",
    "        'B08201_002E': 'Zero_vehicles_available',\n",
    "        'B08201_003E': '1_vehicle_available',\n",
    "        'B23001_001E': 'Labor_Force',\n",
    "        'B25064_001E': 'Median_Gross_Rent',\n",
    "        'B05001_001E': 'US_Citizen',\n",
    "        'B05001_006E': 'Not_a_US_Citizen',\n",
    "        'B15001_001E': 'Education_status',\n",
    "        'B15002_001E': 'Total_Population_25_and_Over',\n",
    "        'B15002_002E': 'Male_Total',\n",
    "        'B15002_019E': 'Female_Total',\n",
    "        'B15002_011E': 'Male_High_School_Graduate',\n",
    "        'B15002_028E': 'Female_High_School_Graduate',\n",
    "        'B15002_015E': 'Male_Bachelor_Degree',\n",
    "        'B15002_032E': 'Female_Bachelor_Degree',\n",
    "        'B15002_016E': 'Male_Master_Degree',\n",
    "        'B15002_033E': 'Female_Master_Degree',\n",
    "        'B11005_003E': 'Households_with_Own_Children_Under_18',\n",
    "        'B11005_005E': 'Married_Couple_Families_with_Own_Children_Under_18',\n",
    "        'B11005_008E': 'Male_Householder_with_Own_Children_Under_18',\n",
    "        'B11005_010E': 'Female_Householder_with_Own_Children_Under_18',\n",
    "        'B11007_002E': 'Households_with_One_or_More_People_65_and_Over',\n",
    "        'B11007_004E': 'Family_Households_with_One_or_More_People_65_and_Over',\n",
    "        'B11007_006E': 'Nonfamily_Households_with_One_or_More_People_65_and_Over',\n",
    "        'B16001_001E': 'Total_Population_5_and_Over',\n",
    "        'B16001_002E': 'Speak_Only_English',\n",
    "        'B16001_003E': 'Speak_Other_Languages',\n",
    "        'B16001_004E': 'Speak_Spanish',\n",
    "        'B16001_007E': 'Speak_French',\n",
    "        'B16001_037E': 'Speak_Chinese',\n",
    "        'B16001_043E': 'Speak_Korean',\n",
    "        'B16001_046E': 'Speak_Vietnamese',\n",
    "        'B16001_064E': 'Speak_Arabic',\n",
    "        'B18101_001E': 'Total_Disability_Status',\n",
    "        'B18101_002E': 'Total_With_Disability',\n",
    "        'B18101_003E': 'Total_Without_Disability'\n",
    "    })\n",
    "\n",
    "    data = data.fillna(0)\n",
    "\n",
    "    # Convert columns to numeric where applicable\n",
    "    numeric_columns = ['Total_Population', 'White', 'Black', 'Native_American_Alaska_Native',\n",
    "                       'Asian', 'Native_Hawaiian_Pacific_Islander', 'Other',\n",
    "                       'Two_or_more_races', 'Total_Households', 'Households_with_Own_Children_Under_18',\n",
    "                       'Married_Couple_Families_with_Own_Children_Under_18',\n",
    "                       'Male_Householder_with_Own_Children_Under_18',\n",
    "                       'Female_Householder_with_Own_Children_Under_18',\n",
    "                       'Households_with_One_or_More_People_65_and_Over',\n",
    "                       'Family_Households_with_One_or_More_People_65_and_Over',\n",
    "                       'Nonfamily_Households_with_One_or_More_People_65_and_Over',\n",
    "                       'Total_Population_5_and_Over', 'Speak_Only_English',\n",
    "                       'Speak_Other_Languages', 'Speak_Spanish', 'Speak_French',\n",
    "                       'Speak_Chinese', 'Speak_Korean', 'Speak_Vietnamese', 'Speak_Arabic',\n",
    "                       'Total_Disability_Status', 'Total_With_Disability',\n",
    "                       'Total_Without_Disability', 'Labor_Force', 'Total_Commute',\n",
    "                       'Commute_Drove_Alone', 'Commute_Public_Transportation',\n",
    "                       'Median_Gross_Rent', 'Zero_vehicles_available', '1_vehicle_available',\n",
    "                       'Male_High_School_Graduate', 'Female_High_School_Graduate','Male_Bachelor_Degree','Female_Bachelor_Degree',\n",
    "                      'Male_Master_Degree', 'Female_Master_Degree']\n",
    "\n",
    "    data[numeric_columns] = data[numeric_columns].apply(pd.to_numeric, errors='coerce')\n",
    "\n",
    "    # Calculate the Total Population\n",
    "    data['Total_Population'] = data[['White', 'Black', 'Native_American_Alaska_Native', 'Asian',\n",
    "                                     'Native_Hawaiian_Pacific_Islander', 'Other', 'Two_or_more_races']].sum(axis=1)\n",
    "    return data\n",
    "\n",
    "# Create a dictionary with state names and their corresponding counties and FIPS codes\n",
    "counties = {\n",
    "    'California': [('Los Angeles', '037')],\n",
    "    'New York': [('New York', '061'), ('Kings', '047'), ('Bronx', '005')],\n",
    "    'Illinois': [('Cook', '031')],\n",
    "    'Texas': [('Harris', '201'), ('Dallas', '113')],\n",
    "    'Arizona': [('Maricopa', '013')],\n",
    "}\n",
    "\n",
    "# Function to fetch tract shapefiles\n",
    "def fetch_tract_shapefiles(state_fips, county_fips):\n",
    "    base_url = f\"https://www2.census.gov/geo/tiger/TIGER2021/TRACT/tl_2021_{state_fips}_tract.zip\"\n",
    "    gdf = gpd.read_file(base_url)\n",
    "    return gdf\n",
    "\n",
    "# Fetch data for all the counties and merge with shapefiles\n",
    "all_data = []\n",
    "for state, counties_list in counties.items():\n",
    "    state_fips = states.lookup(state).fips\n",
    "    for county_name, county_fips in counties_list:\n",
    "        print(f'Fetching data for {county_name} County, {state}')\n",
    "        census_data = fetch_census_data(state_fips, county_fips)\n",
    "        tract_shapefiles = fetch_tract_shapefiles(state_fips, county_fips)\n",
    "\n",
    "        # Merge census data with shapefiles\n",
    "        merged_data = tract_shapefiles.merge(census_data, left_on='GEOID', right_on='tract')\n",
    "        merged_data['State'] = state\n",
    "        merged_data['County'] = county_name\n",
    "\n",
    "        all_data.append(merged_data)\n",
    "\n",
    "# Concatenate all the data into a single GeoDataFrame\n",
    "final_gdf = gpd.GeoDataFrame(pd.concat(all_data, ignore_index=True))\n",
    "\n",
    "# Export the GeoDataFrame to a file\n",
    "final_gdf.to_file('census_data_all_counties.shp', driver='ESRI Shapefile')\n",
    "\n",
    "# Alternatively, save as a shapefile if preferred\n",
    "# final_gdf.to_file('census_data_all_counties.shp')\n"
   ]
  },
  {
   "cell_type": "code",
   "execution_count": 31,
   "id": "bae67efd-8263-4450-8bbb-6a9ba02ca334",
   "metadata": {},
   "outputs": [
    {
     "name": "stdout",
     "output_type": "stream",
     "text": [
      "Fetching shapefile for Chicago, IL\n"
     ]
    },
    {
     "ename": "AttributeError",
     "evalue": "'ACS5Client' object has no attribute 'geo'",
     "output_type": "error",
     "traceback": [
      "\u001b[0;31m---------------------------------------------------------------------------\u001b[0m",
      "\u001b[0;31mAttributeError\u001b[0m                            Traceback (most recent call last)",
      "Cell \u001b[0;32mIn[31], line 44\u001b[0m\n\u001b[1;32m     42\u001b[0m \u001b[38;5;28;01mfor\u001b[39;00m city, state \u001b[38;5;129;01min\u001b[39;00m cities\u001b[38;5;241m.\u001b[39mitems():\n\u001b[1;32m     43\u001b[0m     \u001b[38;5;28mprint\u001b[39m(\u001b[38;5;124mf\u001b[39m\u001b[38;5;124m'\u001b[39m\u001b[38;5;124mFetching shapefile for \u001b[39m\u001b[38;5;132;01m{\u001b[39;00mcity\u001b[38;5;132;01m}\u001b[39;00m\u001b[38;5;124m, \u001b[39m\u001b[38;5;132;01m{\u001b[39;00mstate\u001b[38;5;132;01m}\u001b[39;00m\u001b[38;5;124m'\u001b[39m)\n\u001b[0;32m---> 44\u001b[0m     city_shapefile \u001b[38;5;241m=\u001b[39m \u001b[43mfetch_city_tract_shapefiles\u001b[49m\u001b[43m(\u001b[49m\u001b[43mcity\u001b[49m\u001b[43m,\u001b[49m\u001b[43m \u001b[49m\u001b[43mstate\u001b[49m\u001b[43m)\u001b[49m\n\u001b[1;32m     45\u001b[0m     \u001b[38;5;28mprint\u001b[39m(city_shapefile)\n",
      "Cell \u001b[0;32mIn[31], line 12\u001b[0m, in \u001b[0;36mfetch_city_tract_shapefiles\u001b[0;34m(city, state)\u001b[0m\n\u001b[1;32m     10\u001b[0m \u001b[38;5;28;01mdef\u001b[39;00m \u001b[38;5;21mfetch_city_tract_shapefiles\u001b[39m(city, state):\n\u001b[1;32m     11\u001b[0m     \u001b[38;5;66;03m# Retrieve the geometry for the specified city using the Census API\u001b[39;00m\n\u001b[0;32m---> 12\u001b[0m     city_geo \u001b[38;5;241m=\u001b[39m \u001b[43mc\u001b[49m\u001b[38;5;241;43m.\u001b[39;49m\u001b[43macs5\u001b[49m\u001b[38;5;241;43m.\u001b[39;49m\u001b[43mgeo\u001b[49m([(\u001b[38;5;124m'\u001b[39m\u001b[38;5;124mNAME\u001b[39m\u001b[38;5;124m'\u001b[39m, \u001b[38;5;124m'\u001b[39m\u001b[38;5;124mtract\u001b[39m\u001b[38;5;124m'\u001b[39m)], states\u001b[38;5;241m.\u001b[39mlookup(state)\u001b[38;5;241m.\u001b[39mfips, \u001b[38;5;124m'\u001b[39m\u001b[38;5;124mplace\u001b[39m\u001b[38;5;124m'\u001b[39m, city, year\u001b[38;5;241m=\u001b[39m\u001b[38;5;241m2019\u001b[39m)\n\u001b[1;32m     14\u001b[0m     \u001b[38;5;66;03m# Extract the geometry for the specified city\u001b[39;00m\n\u001b[1;32m     15\u001b[0m     city_geometry \u001b[38;5;241m=\u001b[39m \u001b[38;5;28mnext\u001b[39m(item \u001b[38;5;28;01mfor\u001b[39;00m item \u001b[38;5;129;01min\u001b[39;00m city_geo \u001b[38;5;28;01mif\u001b[39;00m item[\u001b[38;5;124m'\u001b[39m\u001b[38;5;124mNAME\u001b[39m\u001b[38;5;124m'\u001b[39m] \u001b[38;5;241m==\u001b[39m city)\n",
      "\u001b[0;31mAttributeError\u001b[0m: 'ACS5Client' object has no attribute 'geo'"
     ]
    }
   ],
   "source": [
    "import geopandas as gpd\n",
    "from us import states\n",
    "from census import Census\n",
    "from shapely.geometry import Polygon\n",
    "\n",
    "# Initialize Census API with your API key\n",
    "c = Census(\"5dc8bf38af7b9e4766c7afba29c4ab08c539ec5f\")\n",
    "\n",
    "# Function to fetch tract shapefiles for a city\n",
    "def fetch_city_tract_shapefiles(city, state):\n",
    "    # Retrieve the geometry for the specified city using the Census API\n",
    "    city_geo = c.acs5.geo([('NAME', 'tract')], states.lookup(state).fips, 'place', city, year=2019)\n",
    "    \n",
    "    # Extract the geometry for the specified city\n",
    "    city_geometry = next(item for item in city_geo if item['NAME'] == city)\n",
    "    city_polygon = Polygon(city_geometry['geometry']['coordinates'][0][0])\n",
    "    \n",
    "    # Retrieve the tract data for the specified state\n",
    "    state_geo = c.acs5.geo_tract(('NAME', 'TRACT'), states.lookup(state).fips, 'state', state, year=2019)\n",
    "    \n",
    "    # Filter the tract data to include only tracts within the city polygon\n",
    "    filtered_geo = [item for item in state_geo if Polygon(item['geometry']['coordinates'][0][0]).within(city_polygon)]\n",
    "    \n",
    "    # Extract the polygons for each census tract\n",
    "    polygons = [Polygon(c['geometry']['coordinates'][0][0]) for c in filtered_geo]\n",
    "    \n",
    "    # Create a GeoDataFrame from the polygons\n",
    "    city_gdf = gpd.GeoDataFrame(geometry=polygons)\n",
    "    \n",
    "    return city_gdf\n",
    "\n",
    "# Example cities and states\n",
    "cities = {\n",
    "    'Chicago': 'IL',\n",
    "    'Los Angeles': 'CA',\n",
    "    'New York': 'NY',\n",
    "    'Houston': 'TX',\n",
    "    'Phoenix': 'AZ'\n",
    "}\n",
    "\n",
    "# Example usage\n",
    "for city, state in cities.items():\n",
    "    print(f'Fetching shapefile for {city}, {state}')\n",
    "    city_shapefile = fetch_city_tract_shapefiles(city, state)\n",
    "    print(city_shapefile)\n"
   ]
  },
  {
   "cell_type": "code",
   "execution_count": null,
   "id": "7cc8e9f7-b54c-417e-b7b7-5ccf0db5c675",
   "metadata": {},
   "outputs": [],
   "source": []
  }
 ],
 "metadata": {
  "kernelspec": {
   "display_name": "Python 3 (ipykernel)",
   "language": "python",
   "name": "python3"
  },
  "language_info": {
   "codemirror_mode": {
    "name": "ipython",
    "version": 3
   },
   "file_extension": ".py",
   "mimetype": "text/x-python",
   "name": "python",
   "nbconvert_exporter": "python",
   "pygments_lexer": "ipython3",
   "version": "3.12.1"
  }
 },
 "nbformat": 4,
 "nbformat_minor": 5
}
