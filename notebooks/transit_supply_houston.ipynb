{
 "cells": [
  {
   "cell_type": "code",
   "execution_count": 9,
   "id": "9032b5d9-f686-4176-85a4-7884358feaac",
   "metadata": {
    "collapsed": true,
    "jupyter": {
     "outputs_hidden": true
    },
    "scrolled": true
   },
   "outputs": [],
   "source": [
    "#Install libraries as needed\n",
    "!pip install gtfs_functions\n",
    "!pip install gtfs_kit"
   ]
  },
  {
   "cell_type": "code",
   "execution_count": 2,
   "id": "94fc4cac-fd3f-4b2a-b9d9-93dd2d749f00",
   "metadata": {
    "collapsed": true,
    "jupyter": {
     "outputs_hidden": true
    }
   },
   "outputs": [],
   "source": [
    "#import packages\n",
    "from gtfs_functions import Feed\n",
    "import gtfs_kit as gk\n",
    "import geopandas as gpd\n",
    "import numpy as np\n",
    "import pandas as pd\n",
    "from shapely.ops import unary_union\n",
    "import matplotlib.pyplot as plt"
   ]
  },
  {
   "cell_type": "markdown",
   "id": "cf154386-310e-49ab-86bb-077b8fcce598",
   "metadata": {},
   "source": [
    "## Import Data\n",
    "#### Import GTFS "
   ]
  },
  {
   "cell_type": "code",
   "execution_count": 2,
   "id": "13765d24-c13e-482a-8d77-00f1510e38d3",
   "metadata": {
    "collapsed": true,
    "jupyter": {
     "outputs_hidden": true
    }
   },
   "outputs": [],
   "source": [
    "#Bring in GTFS data using gtfs_functions\n",
    "\n",
    "#Change path to local GTFS zip\n",
    "gtfs_path = r\"C:\\Users\\cathk\\GEOG490\\gtfs.zip\"\n",
    "feed = Feed(gtfs_path, time_windows=[0, 6, 10, 12, 16, 19, 24])"
   ]
  },
  {
   "cell_type": "code",
   "execution_count": 3,
   "id": "c301558c-b38d-4177-abc0-5e32e1a89338",
   "metadata": {
    "collapsed": true,
    "jupyter": {
     "outputs_hidden": true
    }
   },
   "outputs": [
    {
     "name": "stderr",
     "output_type": "stream",
     "text": [
      "INFO:root:Reading \"routes.txt\".\n",
      "INFO:root:accessing trips\n",
      "INFO:root:Start date is None. You should either specify a start date or set busiest_date to True.\n",
      "INFO:root:Reading \"trips.txt\".\n",
      "INFO:root:Reading \"calendar.txt\".\n",
      "INFO:root:Reading \"calendar_dates.txt\".\n",
      "INFO:root:The busiest date/s of this feed or your selected date range is/are:  ['2023-01-02', '2022-09-05', '2022-12-26', '2022-11-24', '2022-11-25'] with 14429 trips.\n",
      "INFO:root:In the case that more than one busiest date was found, the first one will be considered.\n",
      "INFO:root:In this case is 2023-01-02.\n",
      "INFO:root:Reading \"stop_times.txt\".\n",
      "INFO:root:_trips is defined in stop_times\n",
      "INFO:root:Reading \"stops.txt\".\n",
      "INFO:root:computing patterns\n",
      "INFO:root:Reading \"shapes.txt\".\n"
     ]
    }
   ],
   "source": [
    "#Bring in GTFS .txt files using feed\n",
    "routes = feed.routes\n",
    "trips = feed.trips\n",
    "stops = feed.stops\n",
    "stop_times = feed.stop_times\n",
    "shapes = feed.shapes\n",
    "calendar = feed.calendar"
   ]
  },
  {
   "cell_type": "markdown",
   "id": "8c5a384a-ed88-4f32-9210-43ea668a3556",
   "metadata": {},
   "source": [
    "#### Import Census Tract data"
   ]
  },
  {
   "cell_type": "code",
   "execution_count": 9,
   "id": "405dcbc0-1dbc-4002-b545-0d03b1def563",
   "metadata": {
    "collapsed": true,
    "jupyter": {
     "outputs_hidden": true
    }
   },
   "outputs": [
    {
     "name": "stderr",
     "output_type": "stream",
     "text": [
      "ERROR:fiona._env:data/shapefiles/tl_2021_48_tract/tl_2021_48_tract.shp: No such file or directory\n"
     ]
    },
    {
     "ename": "DriverError",
     "evalue": "data/shapefiles/tl_2021_48_tract/tl_2021_48_tract.shp: No such file or directory",
     "output_type": "error",
     "traceback": [
      "\u001b[1;31m---------------------------------------------------------------------------\u001b[0m",
      "\u001b[1;31mCPLE_OpenFailedError\u001b[0m                      Traceback (most recent call last)",
      "File \u001b[1;32mfiona\\\\ogrext.pyx:136\u001b[0m, in \u001b[0;36mfiona.ogrext.gdal_open_vector\u001b[1;34m()\u001b[0m\n",
      "File \u001b[1;32mfiona\\\\_err.pyx:291\u001b[0m, in \u001b[0;36mfiona._err.exc_wrap_pointer\u001b[1;34m()\u001b[0m\n",
      "\u001b[1;31mCPLE_OpenFailedError\u001b[0m: data/shapefiles/tl_2021_48_tract/tl_2021_48_tract.shp: No such file or directory",
      "\nDuring handling of the above exception, another exception occurred:\n",
      "\u001b[1;31mDriverError\u001b[0m                               Traceback (most recent call last)",
      "Cell \u001b[1;32mIn[9], line 2\u001b[0m\n\u001b[0;32m      1\u001b[0m \u001b[38;5;66;03m#Change path to local tract shapefile\u001b[39;00m\n\u001b[1;32m----> 2\u001b[0m tracts \u001b[38;5;241m=\u001b[39m \u001b[43mgpd\u001b[49m\u001b[38;5;241;43m.\u001b[39;49m\u001b[43mread_file\u001b[49m\u001b[43m(\u001b[49m\u001b[38;5;124;43m\"\u001b[39;49m\u001b[38;5;124;43mdata/shapefiles/tl_2021_48_tract/tl_2021_48_tract.shp\u001b[39;49m\u001b[38;5;124;43m\"\u001b[39;49m\u001b[43m)\u001b[49m\n\u001b[0;32m      4\u001b[0m \u001b[38;5;66;03m#Get county Census tract\u001b[39;00m\n\u001b[0;32m      5\u001b[0m county_tracts \u001b[38;5;241m=\u001b[39m tracts[tracts[\u001b[38;5;124m'\u001b[39m\u001b[38;5;124mCOUNTYFP\u001b[39m\u001b[38;5;124m'\u001b[39m] \u001b[38;5;241m==\u001b[39m \u001b[38;5;124m'\u001b[39m\u001b[38;5;124m201\u001b[39m\u001b[38;5;124m'\u001b[39m]\n",
      "File \u001b[1;32m~\\.gds\\lib\\site-packages\\geopandas\\io\\file.py:281\u001b[0m, in \u001b[0;36m_read_file\u001b[1;34m(filename, bbox, mask, rows, engine, **kwargs)\u001b[0m\n\u001b[0;32m    278\u001b[0m     \u001b[38;5;28;01melse\u001b[39;00m:\n\u001b[0;32m    279\u001b[0m         path_or_bytes \u001b[38;5;241m=\u001b[39m filename\n\u001b[1;32m--> 281\u001b[0m     \u001b[38;5;28;01mreturn\u001b[39;00m \u001b[43m_read_file_fiona\u001b[49m\u001b[43m(\u001b[49m\n\u001b[0;32m    282\u001b[0m \u001b[43m        \u001b[49m\u001b[43mpath_or_bytes\u001b[49m\u001b[43m,\u001b[49m\u001b[43m \u001b[49m\u001b[43mfrom_bytes\u001b[49m\u001b[43m,\u001b[49m\u001b[43m \u001b[49m\u001b[43mbbox\u001b[49m\u001b[38;5;241;43m=\u001b[39;49m\u001b[43mbbox\u001b[49m\u001b[43m,\u001b[49m\u001b[43m \u001b[49m\u001b[43mmask\u001b[49m\u001b[38;5;241;43m=\u001b[39;49m\u001b[43mmask\u001b[49m\u001b[43m,\u001b[49m\u001b[43m \u001b[49m\u001b[43mrows\u001b[49m\u001b[38;5;241;43m=\u001b[39;49m\u001b[43mrows\u001b[49m\u001b[43m,\u001b[49m\u001b[43m \u001b[49m\u001b[38;5;241;43m*\u001b[39;49m\u001b[38;5;241;43m*\u001b[39;49m\u001b[43mkwargs\u001b[49m\n\u001b[0;32m    283\u001b[0m \u001b[43m    \u001b[49m\u001b[43m)\u001b[49m\n\u001b[0;32m    285\u001b[0m \u001b[38;5;28;01melse\u001b[39;00m:\n\u001b[0;32m    286\u001b[0m     \u001b[38;5;28;01mraise\u001b[39;00m \u001b[38;5;167;01mValueError\u001b[39;00m(\u001b[38;5;124mf\u001b[39m\u001b[38;5;124m\"\u001b[39m\u001b[38;5;124munknown engine \u001b[39m\u001b[38;5;124m'\u001b[39m\u001b[38;5;132;01m{\u001b[39;00mengine\u001b[38;5;132;01m}\u001b[39;00m\u001b[38;5;124m'\u001b[39m\u001b[38;5;124m\"\u001b[39m)\n",
      "File \u001b[1;32m~\\.gds\\lib\\site-packages\\geopandas\\io\\file.py:322\u001b[0m, in \u001b[0;36m_read_file_fiona\u001b[1;34m(path_or_bytes, from_bytes, bbox, mask, rows, where, **kwargs)\u001b[0m\n\u001b[0;32m    319\u001b[0m     reader \u001b[38;5;241m=\u001b[39m fiona\u001b[38;5;241m.\u001b[39mopen\n\u001b[0;32m    321\u001b[0m \u001b[38;5;28;01mwith\u001b[39;00m fiona_env():\n\u001b[1;32m--> 322\u001b[0m     \u001b[38;5;28;01mwith\u001b[39;00m \u001b[43mreader\u001b[49m\u001b[43m(\u001b[49m\u001b[43mpath_or_bytes\u001b[49m\u001b[43m,\u001b[49m\u001b[43m \u001b[49m\u001b[38;5;241;43m*\u001b[39;49m\u001b[38;5;241;43m*\u001b[39;49m\u001b[43mkwargs\u001b[49m\u001b[43m)\u001b[49m \u001b[38;5;28;01mas\u001b[39;00m features:\n\u001b[0;32m    323\u001b[0m         crs \u001b[38;5;241m=\u001b[39m features\u001b[38;5;241m.\u001b[39mcrs_wkt\n\u001b[0;32m    324\u001b[0m         \u001b[38;5;66;03m# attempt to get EPSG code\u001b[39;00m\n",
      "File \u001b[1;32m~\\.gds\\lib\\site-packages\\fiona\\env.py:457\u001b[0m, in \u001b[0;36mensure_env_with_credentials.<locals>.wrapper\u001b[1;34m(*args, **kwds)\u001b[0m\n\u001b[0;32m    454\u001b[0m     session \u001b[38;5;241m=\u001b[39m DummySession()\n\u001b[0;32m    456\u001b[0m \u001b[38;5;28;01mwith\u001b[39;00m env_ctor(session\u001b[38;5;241m=\u001b[39msession):\n\u001b[1;32m--> 457\u001b[0m     \u001b[38;5;28;01mreturn\u001b[39;00m \u001b[43mf\u001b[49m\u001b[43m(\u001b[49m\u001b[38;5;241;43m*\u001b[39;49m\u001b[43margs\u001b[49m\u001b[43m,\u001b[49m\u001b[43m \u001b[49m\u001b[38;5;241;43m*\u001b[39;49m\u001b[38;5;241;43m*\u001b[39;49m\u001b[43mkwds\u001b[49m\u001b[43m)\u001b[49m\n",
      "File \u001b[1;32m~\\.gds\\lib\\site-packages\\fiona\\__init__.py:320\u001b[0m, in \u001b[0;36mopen\u001b[1;34m(fp, mode, driver, schema, crs, encoding, layer, vfs, enabled_drivers, crs_wkt, allow_unsupported_drivers, **kwargs)\u001b[0m\n\u001b[0;32m    317\u001b[0m     path \u001b[38;5;241m=\u001b[39m parse_path(fp)\n\u001b[0;32m    319\u001b[0m \u001b[38;5;28;01mif\u001b[39;00m mode \u001b[38;5;129;01min\u001b[39;00m (\u001b[38;5;124m\"\u001b[39m\u001b[38;5;124ma\u001b[39m\u001b[38;5;124m\"\u001b[39m, \u001b[38;5;124m\"\u001b[39m\u001b[38;5;124mr\u001b[39m\u001b[38;5;124m\"\u001b[39m):\n\u001b[1;32m--> 320\u001b[0m     colxn \u001b[38;5;241m=\u001b[39m \u001b[43mCollection\u001b[49m\u001b[43m(\u001b[49m\n\u001b[0;32m    321\u001b[0m \u001b[43m        \u001b[49m\u001b[43mpath\u001b[49m\u001b[43m,\u001b[49m\n\u001b[0;32m    322\u001b[0m \u001b[43m        \u001b[49m\u001b[43mmode\u001b[49m\u001b[43m,\u001b[49m\n\u001b[0;32m    323\u001b[0m \u001b[43m        \u001b[49m\u001b[43mdriver\u001b[49m\u001b[38;5;241;43m=\u001b[39;49m\u001b[43mdriver\u001b[49m\u001b[43m,\u001b[49m\n\u001b[0;32m    324\u001b[0m \u001b[43m        \u001b[49m\u001b[43mencoding\u001b[49m\u001b[38;5;241;43m=\u001b[39;49m\u001b[43mencoding\u001b[49m\u001b[43m,\u001b[49m\n\u001b[0;32m    325\u001b[0m \u001b[43m        \u001b[49m\u001b[43mlayer\u001b[49m\u001b[38;5;241;43m=\u001b[39;49m\u001b[43mlayer\u001b[49m\u001b[43m,\u001b[49m\n\u001b[0;32m    326\u001b[0m \u001b[43m        \u001b[49m\u001b[43menabled_drivers\u001b[49m\u001b[38;5;241;43m=\u001b[39;49m\u001b[43menabled_drivers\u001b[49m\u001b[43m,\u001b[49m\n\u001b[0;32m    327\u001b[0m \u001b[43m        \u001b[49m\u001b[43mallow_unsupported_drivers\u001b[49m\u001b[38;5;241;43m=\u001b[39;49m\u001b[43mallow_unsupported_drivers\u001b[49m\u001b[43m,\u001b[49m\n\u001b[0;32m    328\u001b[0m \u001b[43m        \u001b[49m\u001b[38;5;241;43m*\u001b[39;49m\u001b[38;5;241;43m*\u001b[39;49m\u001b[43mkwargs\u001b[49m\n\u001b[0;32m    329\u001b[0m \u001b[43m    \u001b[49m\u001b[43m)\u001b[49m\n\u001b[0;32m    330\u001b[0m \u001b[38;5;28;01melif\u001b[39;00m mode \u001b[38;5;241m==\u001b[39m \u001b[38;5;124m\"\u001b[39m\u001b[38;5;124mw\u001b[39m\u001b[38;5;124m\"\u001b[39m:\n\u001b[0;32m    331\u001b[0m     colxn \u001b[38;5;241m=\u001b[39m Collection(\n\u001b[0;32m    332\u001b[0m         path,\n\u001b[0;32m    333\u001b[0m         mode,\n\u001b[1;32m   (...)\u001b[0m\n\u001b[0;32m    342\u001b[0m         \u001b[38;5;241m*\u001b[39m\u001b[38;5;241m*\u001b[39mkwargs\n\u001b[0;32m    343\u001b[0m     )\n",
      "File \u001b[1;32m~\\.gds\\lib\\site-packages\\fiona\\collection.py:243\u001b[0m, in \u001b[0;36mCollection.__init__\u001b[1;34m(self, path, mode, driver, schema, crs, encoding, layer, vsi, archive, enabled_drivers, crs_wkt, ignore_fields, ignore_geometry, include_fields, wkt_version, allow_unsupported_drivers, **kwargs)\u001b[0m\n\u001b[0;32m    241\u001b[0m \u001b[38;5;28;01mif\u001b[39;00m \u001b[38;5;28mself\u001b[39m\u001b[38;5;241m.\u001b[39mmode \u001b[38;5;241m==\u001b[39m \u001b[38;5;124m\"\u001b[39m\u001b[38;5;124mr\u001b[39m\u001b[38;5;124m\"\u001b[39m:\n\u001b[0;32m    242\u001b[0m     \u001b[38;5;28mself\u001b[39m\u001b[38;5;241m.\u001b[39msession \u001b[38;5;241m=\u001b[39m Session()\n\u001b[1;32m--> 243\u001b[0m     \u001b[38;5;28;43mself\u001b[39;49m\u001b[38;5;241;43m.\u001b[39;49m\u001b[43msession\u001b[49m\u001b[38;5;241;43m.\u001b[39;49m\u001b[43mstart\u001b[49m\u001b[43m(\u001b[49m\u001b[38;5;28;43mself\u001b[39;49m\u001b[43m,\u001b[49m\u001b[43m \u001b[49m\u001b[38;5;241;43m*\u001b[39;49m\u001b[38;5;241;43m*\u001b[39;49m\u001b[43mkwargs\u001b[49m\u001b[43m)\u001b[49m\n\u001b[0;32m    244\u001b[0m \u001b[38;5;28;01melif\u001b[39;00m \u001b[38;5;28mself\u001b[39m\u001b[38;5;241m.\u001b[39mmode \u001b[38;5;129;01min\u001b[39;00m (\u001b[38;5;124m\"\u001b[39m\u001b[38;5;124ma\u001b[39m\u001b[38;5;124m\"\u001b[39m, \u001b[38;5;124m\"\u001b[39m\u001b[38;5;124mw\u001b[39m\u001b[38;5;124m\"\u001b[39m):\n\u001b[0;32m    245\u001b[0m     \u001b[38;5;28mself\u001b[39m\u001b[38;5;241m.\u001b[39msession \u001b[38;5;241m=\u001b[39m WritingSession()\n",
      "File \u001b[1;32mfiona\\\\ogrext.pyx:588\u001b[0m, in \u001b[0;36mfiona.ogrext.Session.start\u001b[1;34m()\u001b[0m\n",
      "File \u001b[1;32mfiona\\\\ogrext.pyx:143\u001b[0m, in \u001b[0;36mfiona.ogrext.gdal_open_vector\u001b[1;34m()\u001b[0m\n",
      "\u001b[1;31mDriverError\u001b[0m: data/shapefiles/tl_2021_48_tract/tl_2021_48_tract.shp: No such file or directory"
     ]
    }
   ],
   "source": [
    "#Change path to local tract shapefile\n",
    "tracts = gpd.read_file(r\"C:\\Users\\cathk\\Documents\\490Final\\Transportation-Access-\\data\\shapefiles\\tl_2021_48_tract\\tl_2021_48_tract.shp\")\n",
    "\n",
    "#Get county Census tract\n",
    "county_tracts = tracts[tracts['COUNTYFP'] == '201']\n",
    "\n",
    "#Reproject  county tracts to UTM for the city\n",
    "county_tracts = county_tracts.to_crs(\"EPSG:32615\")"
   ]
  },
  {
   "cell_type": "code",
   "execution_count": 5,
   "id": "404fa3e0-f2db-47bd-baab-2fc8e726912d",
   "metadata": {
    "collapsed": true,
    "jupyter": {
     "outputs_hidden": true
    }
   },
   "outputs": [],
   "source": [
    "county_tracts['TRACTCE'] = county_tracts['TRACTCE'].astype(int)"
   ]
  },
  {
   "cell_type": "code",
   "execution_count": 6,
   "id": "42094686-1d3a-433e-9920-0ccbc23aa71e",
   "metadata": {
    "collapsed": true,
    "jupyter": {
     "outputs_hidden": true
    }
   },
   "outputs": [],
   "source": [
    "# Extract needed columns\n",
    "county_tracts = county_tracts[['TRACTCE','ALAND','geometry']]"
   ]
  },
  {
   "cell_type": "markdown",
   "id": "4cfec5ec-06f0-4b1f-9d15-3f06d6f29f79",
   "metadata": {},
   "source": [
    "# Transit Factors and Indicators"
   ]
  },
  {
   "cell_type": "markdown",
   "id": "3c98da16-67c0-43a2-b875-8eb6fd72e49e",
   "metadata": {},
   "source": [
    "### Factor: Connectivity to the Network\n",
    "##### Indicators: Bus stop service coverage area, density of bus stops, route coverage, ADA accessibility"
   ]
  },
  {
   "cell_type": "markdown",
   "id": "fa50f000-2654-4981-8157-cc610c54f67f",
   "metadata": {},
   "source": [
    "#### Indicator: Bus stop service coverage area\n",
    "Bus stop service coverage area is determined by finding the sum of the service coverage areas of bus stops in a Census tract divided by the total area of the Census tract.\n",
    "\n",
    " - Service coverage areas are 400m radius buffers from each bus stop. Here overlapping areas are counted one time.\n"
   ]
  },
  {
   "cell_type": "code",
   "execution_count": 7,
   "id": "7fad3c5c-93c4-449a-b702-96a10cd3f17d",
   "metadata": {
    "collapsed": true,
    "jupyter": {
     "outputs_hidden": true
    }
   },
   "outputs": [],
   "source": [
    "# Bring in the bus stops\n",
    "stops = feed.stops\n",
    "\n",
    "#Reproject the bus stops to UTM\n",
    "stops_reproject = stops.to_crs(\"EPSG:32615\")\n",
    "\n",
    "#Buffer stops \n",
    "buffer_distance = 400 #meters\n",
    "stops_buffered = stops_reproject.buffer(buffer_distance)\n",
    "\n",
    "#Convert buffered stops geoseries to a geodataframe\n",
    "stops_buffered_gdf = gpd.GeoDataFrame(geometry=stops_buffered)"
   ]
  },
  {
   "cell_type": "code",
   "execution_count": 9,
   "id": "0053e4c1-329e-4f08-bddf-65e3d375ba9e",
   "metadata": {
    "collapsed": true,
    "jupyter": {
     "outputs_hidden": true
    }
   },
   "outputs": [],
   "source": [
    "# Calculate the areas\n",
    "county_tracts['area'] = county_tracts.geometry.area"
   ]
  },
  {
   "cell_type": "code",
   "execution_count": 10,
   "id": "59efe730-ea28-4654-815d-b5f737368c0a",
   "metadata": {
    "collapsed": true,
    "jupyter": {
     "outputs_hidden": true
    }
   },
   "outputs": [],
   "source": [
    "# Merge all the polygons into a single polygon\n",
    "merged_polygon = unary_union(stops_buffered_gdf.geometry)\n",
    "\n",
    "# Create a new GeoDataFrame with the merged polygon\n",
    "merged_gdf = gpd.GeoDataFrame(geometry=[merged_polygon])\n",
    "\n",
    "# If you want to reset the index of the DataFrame\n",
    "merged_gdf.reset_index(drop=True, inplace=True)\n"
   ]
  },
  {
   "cell_type": "code",
   "execution_count": 11,
   "id": "be761546-c3de-4b16-ab60-5e8b49055c3e",
   "metadata": {
    "collapsed": true,
    "jupyter": {
     "outputs_hidden": true
    }
   },
   "outputs": [],
   "source": [
    "# Create an empty list to store the results\n",
    "area_covered_list = []\n",
    "\n",
    "# Iterate over each row in gdf2\n",
    "for _, row in county_tracts.iterrows():\n",
    "    # Calculate the intersection between the row geometry of gdf2 and the geometries in gdf1\n",
    "    intersection = merged_gdf.intersection(row.geometry)\n",
    "    \n",
    "    # Calculate the total area of the intersection\n",
    "    total_intersection_area = intersection.area.sum()\n",
    "    \n",
    "    # Append the total intersection area to the list\n",
    "    area_covered_list.append(total_intersection_area)\n",
    "\n",
    "# Add the area_covered_list as a new column to gdf2\n",
    "county_tracts['area_covered'] = area_covered_list\n",
    "\n"
   ]
  },
  {
   "cell_type": "code",
   "execution_count": 12,
   "id": "dd3ed7fa-a04b-497a-8c4c-1199a8b327da",
   "metadata": {
    "collapsed": true,
    "jupyter": {
     "outputs_hidden": true
    }
   },
   "outputs": [],
   "source": [
    "# Get the service coverage area by dividing the area_covered by the total area of the tract\n",
    "county_tracts['service_coverage']=county_tracts['area_covered']/county_tracts['area']"
   ]
  },
  {
   "cell_type": "markdown",
   "id": "3835fa73-e3c1-4b5d-9877-d9dd920a12d5",
   "metadata": {},
   "source": [
    "#### Indicator: Density of bus stops\n",
    "The density of bus stops is determined by dividing the number of bus stops in a census tract by the area of the census tract"
   ]
  },
  {
   "cell_type": "code",
   "execution_count": 29,
   "id": "e24055a0-20d0-4b52-9028-9bedede39946",
   "metadata": {
    "collapsed": true,
    "jupyter": {
     "outputs_hidden": true
    }
   },
   "outputs": [],
   "source": [
    "# Ensure that the TRACTCE column is the same type as in the GTFS data\n",
    "county_tracts['TRACTCE'] = county_tracts['TRACTCE'].astype(int)"
   ]
  },
  {
   "cell_type": "code",
   "execution_count": 30,
   "id": "c7890384-df11-469a-824e-c2b3924e0b82",
   "metadata": {
    "collapsed": true,
    "jupyter": {
     "outputs_hidden": true
    }
   },
   "outputs": [],
   "source": [
    "# Get the number of bus stops in a census tract\n",
    "stops_county = stops_reproject.sjoin(county_tracts, how=\"left\")\n",
    "\n",
    "# Calculate the area\n",
    "stops_county['area'] = stops_county['geometry'].area\n",
    "\n",
    "# Get the unique counties in the bus stops gdf and count the bus stops in each.\n",
    "unique, counts = np.unique(stops_county['TRACTCE'], return_counts=True)\n",
    "dict(zip(unique, counts))\n",
    "\n",
    "# Turn the unique counts dictionary into a gdf\n",
    "busstopsincounty = gpd.GeoDataFrame(list(zip(unique, counts)), \n",
    "                       columns=['TRACTCE', 'bus_stops'])\n",
    "\n",
    "# Merge the number of bus stops gdf with the county_tracts gdf\n",
    "county_tracts = county_tracts.merge(busstopsincounty, on='TRACTCE', how='left')\n",
    "\n",
    "# Calculate the density of bus stops by dividing the number of bus stops by the area of each census tract\n",
    "county_tracts['density_bstops'] = county_tracts['bus_stops']/county_tracts['area']"
   ]
  },
  {
   "cell_type": "markdown",
   "id": "8838ccdd-a0f3-4b5c-a306-ae232aa022f9",
   "metadata": {},
   "source": [
    "#### Indicator: Route coverage\n",
    "Route coverage quantifies the distribution and density of bus routes throughout the street network of the Census tract. This metric is calculated by taking the sum of the lengths of all routes in a census tract and dividing this by the sum of the length of the street network throughout the tract."
   ]
  },
  {
   "cell_type": "code",
   "execution_count": 15,
   "id": "eda2186b-5dc5-4dca-9241-f2f6eddc11cc",
   "metadata": {
    "collapsed": true,
    "jupyter": {
     "outputs_hidden": true
    }
   },
   "outputs": [],
   "source": [
    "# Load the GTFS feed into a Feed object\n",
    "feed = gk.read_feed(gtfs_path,dist_units='mi')"
   ]
  },
  {
   "cell_type": "code",
   "execution_count": 16,
   "id": "a21f07cf-c3a7-4ae5-83f0-53014d19ff6e",
   "metadata": {
    "collapsed": true,
    "jupyter": {
     "outputs_hidden": true
    }
   },
   "outputs": [],
   "source": [
    "# Use the geometrize_routes function from gtfs_kits to get the geometry of the routes\n",
    "routesgeom = gk.routes.geometrize_routes(feed)"
   ]
  },
  {
   "cell_type": "code",
   "execution_count": 18,
   "id": "b7e1c39c-4098-4a35-886d-4b25fcfbb676",
   "metadata": {
    "collapsed": true,
    "jupyter": {
     "outputs_hidden": true
    }
   },
   "outputs": [],
   "source": [
    "# Set the crs of the geometrized routes based on the stored geometry values\n",
    "routesgeom.crs = \"EPSG:4326\" \n",
    "\n",
    "#Reproject the routes to UTM fo the city\n",
    "routes_reproject = routesgeom.to_crs(\"EPSG:32615\")"
   ]
  },
  {
   "cell_type": "code",
   "execution_count": 20,
   "id": "44b61977-84f2-44ef-a3b2-b4f6b4553db7",
   "metadata": {
    "collapsed": true,
    "jupyter": {
     "outputs_hidden": true
    }
   },
   "outputs": [],
   "source": [
    "# Get bus routes (type 3 )\n",
    "routes_reproject = routes_reproject[routes_reproject['route_type'] == 3]"
   ]
  },
  {
   "cell_type": "code",
   "execution_count": 21,
   "id": "079fec3f-803c-4dda-9854-291d5e9b141c",
   "metadata": {
    "collapsed": true,
    "jupyter": {
     "outputs_hidden": true
    }
   },
   "outputs": [
    {
     "data": {
      "text/html": [
       "<div>\n",
       "<style scoped>\n",
       "    .dataframe tbody tr th:only-of-type {\n",
       "        vertical-align: middle;\n",
       "    }\n",
       "\n",
       "    .dataframe tbody tr th {\n",
       "        vertical-align: top;\n",
       "    }\n",
       "\n",
       "    .dataframe thead th {\n",
       "        text-align: right;\n",
       "    }\n",
       "</style>\n",
       "<table border=\"1\" class=\"dataframe\">\n",
       "  <thead>\n",
       "    <tr style=\"text-align: right;\">\n",
       "      <th></th>\n",
       "      <th>TRACTCE</th>\n",
       "      <th>routesum</th>\n",
       "    </tr>\n",
       "  </thead>\n",
       "  <tbody>\n",
       "    <tr>\n",
       "      <th>0</th>\n",
       "      <td>100001</td>\n",
       "      <td>109651.567648</td>\n",
       "    </tr>\n",
       "    <tr>\n",
       "      <th>1</th>\n",
       "      <td>210400</td>\n",
       "      <td>18504.939456</td>\n",
       "    </tr>\n",
       "    <tr>\n",
       "      <th>2</th>\n",
       "      <td>210500</td>\n",
       "      <td>13028.999095</td>\n",
       "    </tr>\n",
       "    <tr>\n",
       "      <th>3</th>\n",
       "      <td>210600</td>\n",
       "      <td>15044.327476</td>\n",
       "    </tr>\n",
       "    <tr>\n",
       "      <th>4</th>\n",
       "      <td>210700</td>\n",
       "      <td>6702.353612</td>\n",
       "    </tr>\n",
       "    <tr>\n",
       "      <th>...</th>\n",
       "      <td>...</td>\n",
       "      <td>...</td>\n",
       "    </tr>\n",
       "    <tr>\n",
       "      <th>754</th>\n",
       "      <td>980100</td>\n",
       "      <td>17847.895067</td>\n",
       "    </tr>\n",
       "    <tr>\n",
       "      <th>755</th>\n",
       "      <td>980200</td>\n",
       "      <td>9428.351289</td>\n",
       "    </tr>\n",
       "    <tr>\n",
       "      <th>756</th>\n",
       "      <td>980300</td>\n",
       "      <td>5891.529402</td>\n",
       "    </tr>\n",
       "    <tr>\n",
       "      <th>757</th>\n",
       "      <td>980400</td>\n",
       "      <td>5700.959109</td>\n",
       "    </tr>\n",
       "    <tr>\n",
       "      <th>758</th>\n",
       "      <td>980700</td>\n",
       "      <td>90099.348021</td>\n",
       "    </tr>\n",
       "  </tbody>\n",
       "</table>\n",
       "<p>759 rows × 2 columns</p>\n",
       "</div>"
      ],
      "text/plain": [
       "     TRACTCE       routesum\n",
       "0     100001  109651.567648\n",
       "1     210400   18504.939456\n",
       "2     210500   13028.999095\n",
       "3     210600   15044.327476\n",
       "4     210700    6702.353612\n",
       "..       ...            ...\n",
       "754   980100   17847.895067\n",
       "755   980200    9428.351289\n",
       "756   980300    5891.529402\n",
       "757   980400    5700.959109\n",
       "758   980700   90099.348021\n",
       "\n",
       "[759 rows x 2 columns]"
      ]
     },
     "execution_count": 21,
     "metadata": {},
     "output_type": "execute_result"
    }
   ],
   "source": [
    "# Sum length of bus routes in each tract\n",
    "\n",
    "# Perform a spatial join to get the lines that intersect with the polygons\n",
    "lines_within_polygons = gpd.overlay(routes_reproject, county_tracts, how='intersection')\n",
    "\n",
    "# Calculate the length of the resulting LineStrings\n",
    "lines_within_polygons['length'] = lines_within_polygons.geometry.length\n",
    "\n",
    "# Group by 'TRACTCE' to handle unique polygons and calculate the sum of the lengths for each\n",
    "total_length_within_polygons = lines_within_polygons.groupby('TRACTCE')['length'].sum().reset_index()\n",
    "\n",
    "# Rename the 'length' column to 'routesum'\n",
    "total_length_within_polygons.rename(columns={'length': 'routesum'}, inplace=True)"
   ]
  },
  {
   "cell_type": "code",
   "execution_count": 23,
   "id": "f27b9c4f-8e5a-48e5-acf0-fa73524b1740",
   "metadata": {
    "collapsed": true,
    "jupyter": {
     "outputs_hidden": true
    }
   },
   "outputs": [],
   "source": [
    "# Merge the routesum into the tracts gdf\n",
    "county_tracts = county_tracts.merge(total_length_within_polygons, on='TRACTCE', how='left')"
   ]
  },
  {
   "cell_type": "code",
   "execution_count": 24,
   "id": "aaaeb9a8-99bd-4166-8e0c-4a9d1d7a5b3a",
   "metadata": {
    "collapsed": true,
    "jupyter": {
     "outputs_hidden": true
    }
   },
   "outputs": [
    {
     "data": {
      "text/plain": [
       "'\\n# Define your city or region of interest\\nplace_name = \"Chicago, Illinois, USA\"\\n\\nnetwork_lengths = []\\nfor geometry in harris_tracts[\\'geometry\\']:\\n\\n    \\n    # Retrieve the street network within the boundary of the Census Tract\\n    G = ox.graph_from_polygon(geometry, network_type=\\'all\\')\\n    \\n     # Calculate the basic statistics of the street network within the Census Tract\\n    stats = ox.stats.basic_stats(G)\\n    \\n    # Extract the total length of the street network within the Census Tract\\n    total_length = stats[\\'edge_length_total\\']\\n    \\n    network_lengths.append(total_length)\\n\\n    print(\"count\")\\nharris_tracts[\\'net_len\\'] = network_lengths\\n'"
      ]
     },
     "execution_count": 24,
     "metadata": {},
     "output_type": "execute_result"
    }
   ],
   "source": [
    "'''\n",
    "Takes too long to run \n",
    "\n",
    "import osmnx as ox\n",
    "import geopandas as gpd\n",
    "\n",
    "# Define  ity or region of interest\n",
    "place_name = \"Chicago, Illinois, USA\"\n",
    "\n",
    "network_lengths = []\n",
    "for geometry in county_tracts['geometry']:\n",
    "\n",
    "    \n",
    "    # Retrieve the street network within the boundary of the Census Tract\n",
    "    G = ox.graph_from_polygon(geometry, network_type='all')\n",
    "    \n",
    "     # Calculate the basic statistics of the street network within the Census Tract\n",
    "    stats = ox.stats.basic_stats(G)\n",
    "    \n",
    "    # Extract the total length of the street network within the Census Tract\n",
    "    total_length = stats['edge_length_total']\n",
    "    \n",
    "    network_lengths.append(total_length)\n",
    "\n",
    "    print(\"count\")\n",
    "county_tracts['net_len'] = network_lengths\n",
    "\n",
    "countforarea['route_covg'] = countforarea['routesum']/countforarea['net_len']\n",
    "'''"
   ]
  },
  {
   "cell_type": "markdown",
   "id": "6bd122a2-d24d-4c8c-8b60-78ce5aa6dd93",
   "metadata": {},
   "source": [
    "#### Indicator: ADA accessibility\n",
    "Here the number of stops with ADA ramps is used as a proxy for system-wide accesibility. The number of stops with ADA ramps is used here."
   ]
  },
  {
   "cell_type": "code",
   "execution_count": 10,
   "id": "f64e6751-99a1-4d19-929f-f7b767b6b8cd",
   "metadata": {
    "collapsed": true,
    "jupyter": {
     "outputs_hidden": true
    }
   },
   "outputs": [
    {
     "ename": "NameError",
     "evalue": "name 'stops_reproject' is not defined",
     "output_type": "error",
     "traceback": [
      "\u001b[1;31m---------------------------------------------------------------------------\u001b[0m",
      "\u001b[1;31mNameError\u001b[0m                                 Traceback (most recent call last)",
      "Cell \u001b[1;32mIn[10], line 3\u001b[0m\n\u001b[0;32m      1\u001b[0m \u001b[38;5;66;03m# Get the number of bus stops in a census tract\u001b[39;00m\n\u001b[0;32m      2\u001b[0m \u001b[38;5;66;03m# Spatially join stops and census tracts\u001b[39;00m\n\u001b[1;32m----> 3\u001b[0m stops_county \u001b[38;5;241m=\u001b[39m gpd\u001b[38;5;241m.\u001b[39msjoin(\u001b[43mstops_reproject\u001b[49m, county_tracts, how\u001b[38;5;241m=\u001b[39m\u001b[38;5;124m\"\u001b[39m\u001b[38;5;124mleft\u001b[39m\u001b[38;5;124m\"\u001b[39m)\n\u001b[0;32m      6\u001b[0m \u001b[38;5;66;03m# Convert 'wheelchair_boarding' column to integer\u001b[39;00m\n\u001b[0;32m      7\u001b[0m stops_county[\u001b[38;5;124m'\u001b[39m\u001b[38;5;124mwheelchair_boarding\u001b[39m\u001b[38;5;124m'\u001b[39m] \u001b[38;5;241m=\u001b[39m stops_county[\u001b[38;5;124m'\u001b[39m\u001b[38;5;124mwheelchair_boarding\u001b[39m\u001b[38;5;124m'\u001b[39m]\u001b[38;5;241m.\u001b[39mastype(\u001b[38;5;28mint\u001b[39m)\n",
      "\u001b[1;31mNameError\u001b[0m: name 'stops_reproject' is not defined"
     ]
    }
   ],
   "source": [
    "# Get the number of bus stops in a census tract\n",
    "# Spatially join stops and census tracts\n",
    "stops_county = gpd.sjoin(stops_reproject, county_tracts, how=\"left\")\n",
    "\n",
    "\n",
    "# Convert 'wheelchair_boarding' column to integer\n",
    "stops_county['wheelchair_boarding'] = stops_county['wheelchair_boarding'].astype(int)\n",
    "\n",
    "# Filter stops with wheelchair value of 1\n",
    "wheelchair_stops = stops_county[stops_county['wheelchair_boarding'] == 1]\n",
    "\n",
    "# Count the number of wheelchair stops within each census tract\n",
    "wheelchair_stops_count = wheelchair_stops.groupby('TRACTCE').size().reset_index(name='wheelchair_stops')\n",
    "\n",
    "# Ensure all census tracts are included in the result and replace null values with 0\n",
    "all_tracts = county_tracts['TRACTCE']\n",
    "wheelchair_stops_count = all_tracts.merge(wheelchair_stops_count, on='TRACTCE', how='left').fillna(0)\n",
    "\n",
    "# Merge the counts with the county_tracts GeoDataFrame\n",
    "county_tractsalt = county_tracts.merge(wheelchair_stops_count, on='TRACTCE', how='left')\n"
   ]
  },
  {
   "cell_type": "markdown",
   "id": "0ee855fb-0ee2-4b77-9856-815e85e2d714",
   "metadata": {},
   "source": [
    "## Create scores from transit supply indicators"
   ]
  },
  {
   "cell_type": "code",
   "execution_count": 31,
   "id": "2ebadf93-f46f-4f2e-85bc-2763e5719d22",
   "metadata": {
    "collapsed": true,
    "jupyter": {
     "outputs_hidden": true
    }
   },
   "outputs": [],
   "source": [
    "from scipy.stats import zscore"
   ]
  },
  {
   "cell_type": "code",
   "execution_count": 32,
   "id": "a8d1e387-d7e4-4c65-be76-57f0823e4dad",
   "metadata": {
    "collapsed": true,
    "jupyter": {
     "outputs_hidden": true
    }
   },
   "outputs": [
    {
     "name": "stdout",
     "output_type": "stream",
     "text": [
      "Original DataFrame:\n",
      "      TRACTCE    ALAND                                           geometry  \\\n",
      "0      341002  1785065  POLYGON ((291298.829 3271248.893, 291314.578 3...   \n",
      "1      310101  2195579  POLYGON ((271927.745 3293387.928, 271992.230 3...   \n",
      "2      510301  1435445  POLYGON ((269126.066 3296490.542, 269158.227 3...   \n",
      "3      311001   830347  POLYGON ((276595.309 3292581.127, 276613.100 3...   \n",
      "4      233502  1380711  POLYGON ((281874.075 3295202.854, 282280.768 3...   \n",
      "...       ...      ...                                                ...   \n",
      "1110   250303  2086010  POLYGON ((282885.805 3315431.432, 282886.736 3...   \n",
      "1111   250201  4619977  POLYGON ((281069.314 3314523.497, 281074.900 3...   \n",
      "1112   532004  1569963  POLYGON ((261075.078 3305612.972, 261094.859 3...   \n",
      "1113   532003  1010818  POLYGON ((260358.680 3306494.276, 260413.920 3...   \n",
      "1114   541207  2265754  POLYGON ((240656.051 3311681.620, 240666.279 3...   \n",
      "\n",
      "              area  area_covered  service_coverage      routesum  bus_stops  \\\n",
      "0     1.785542e+06  0.000000e+00          0.000000   4677.610574        NaN   \n",
      "1     2.217311e+06  1.954668e+06          0.881549   5434.509409       29.0   \n",
      "2     1.466320e+06  1.392952e+06          0.949965  14712.583899       15.0   \n",
      "3     8.560404e+05  8.224577e+05          0.960770   1947.002660       16.0   \n",
      "4     1.381215e+06  0.000000e+00          0.000000           NaN        NaN   \n",
      "...            ...           ...               ...           ...        ...   \n",
      "1110  2.093565e+06  0.000000e+00          0.000000           NaN        NaN   \n",
      "1111  4.635079e+06  0.000000e+00          0.000000           NaN        NaN   \n",
      "1112  1.601924e+06  1.103814e+06          0.689055   1241.484551       10.0   \n",
      "1113  1.023628e+06  7.460671e+05          0.728846   1467.522349        6.0   \n",
      "1114  2.278285e+06  0.000000e+00          0.000000           NaN        NaN   \n",
      "\n",
      "      density_bstops  \n",
      "0                NaN  \n",
      "1           0.000013  \n",
      "2           0.000010  \n",
      "3           0.000019  \n",
      "4                NaN  \n",
      "...              ...  \n",
      "1110             NaN  \n",
      "1111             NaN  \n",
      "1112        0.000006  \n",
      "1113        0.000006  \n",
      "1114             NaN  \n",
      "\n",
      "[1115 rows x 9 columns]\n",
      "\n",
      "Checking for NaN values:\n",
      "TRACTCE               0\n",
      "ALAND                 0\n",
      "geometry              0\n",
      "area                  0\n",
      "area_covered          0\n",
      "service_coverage      0\n",
      "routesum            356\n",
      "bus_stops           410\n",
      "density_bstops      410\n",
      "dtype: int64\n"
     ]
    },
    {
     "data": {
      "text/html": [
       "<div>\n",
       "<style scoped>\n",
       "    .dataframe tbody tr th:only-of-type {\n",
       "        vertical-align: middle;\n",
       "    }\n",
       "\n",
       "    .dataframe tbody tr th {\n",
       "        vertical-align: top;\n",
       "    }\n",
       "\n",
       "    .dataframe thead th {\n",
       "        text-align: right;\n",
       "    }\n",
       "</style>\n",
       "<table border=\"1\" class=\"dataframe\">\n",
       "  <thead>\n",
       "    <tr style=\"text-align: right;\">\n",
       "      <th></th>\n",
       "      <th>TRACTCE</th>\n",
       "      <th>ALAND</th>\n",
       "      <th>geometry</th>\n",
       "      <th>area</th>\n",
       "      <th>area_covered</th>\n",
       "      <th>service_coverage</th>\n",
       "      <th>routesum</th>\n",
       "      <th>bus_stops</th>\n",
       "      <th>density_bstops</th>\n",
       "    </tr>\n",
       "  </thead>\n",
       "  <tbody>\n",
       "    <tr>\n",
       "      <th>1</th>\n",
       "      <td>310101</td>\n",
       "      <td>2195579</td>\n",
       "      <td>POLYGON ((271927.745 3293387.928, 271992.230 3...</td>\n",
       "      <td>2.217311e+06</td>\n",
       "      <td>1.954668e+06</td>\n",
       "      <td>0.881549</td>\n",
       "      <td>5434.509409</td>\n",
       "      <td>29.0</td>\n",
       "      <td>0.000013</td>\n",
       "    </tr>\n",
       "    <tr>\n",
       "      <th>2</th>\n",
       "      <td>510301</td>\n",
       "      <td>1435445</td>\n",
       "      <td>POLYGON ((269126.066 3296490.542, 269158.227 3...</td>\n",
       "      <td>1.466320e+06</td>\n",
       "      <td>1.392952e+06</td>\n",
       "      <td>0.949965</td>\n",
       "      <td>14712.583899</td>\n",
       "      <td>15.0</td>\n",
       "      <td>0.000010</td>\n",
       "    </tr>\n",
       "    <tr>\n",
       "      <th>3</th>\n",
       "      <td>311001</td>\n",
       "      <td>830347</td>\n",
       "      <td>POLYGON ((276595.309 3292581.127, 276613.100 3...</td>\n",
       "      <td>8.560404e+05</td>\n",
       "      <td>8.224577e+05</td>\n",
       "      <td>0.960770</td>\n",
       "      <td>1947.002660</td>\n",
       "      <td>16.0</td>\n",
       "      <td>0.000019</td>\n",
       "    </tr>\n",
       "    <tr>\n",
       "      <th>5</th>\n",
       "      <td>211302</td>\n",
       "      <td>1584213</td>\n",
       "      <td>POLYGON ((274176.668 3295729.241, 274255.697 3...</td>\n",
       "      <td>1.584917e+06</td>\n",
       "      <td>1.453638e+06</td>\n",
       "      <td>0.917169</td>\n",
       "      <td>10357.590861</td>\n",
       "      <td>36.0</td>\n",
       "      <td>0.000023</td>\n",
       "    </tr>\n",
       "    <tr>\n",
       "      <th>7</th>\n",
       "      <td>100001</td>\n",
       "      <td>2550360</td>\n",
       "      <td>POLYGON ((270387.021 3294289.752, 270390.295 3...</td>\n",
       "      <td>2.580593e+06</td>\n",
       "      <td>2.511420e+06</td>\n",
       "      <td>0.973195</td>\n",
       "      <td>109651.567648</td>\n",
       "      <td>108.0</td>\n",
       "      <td>0.000042</td>\n",
       "    </tr>\n",
       "    <tr>\n",
       "      <th>...</th>\n",
       "      <td>...</td>\n",
       "      <td>...</td>\n",
       "      <td>...</td>\n",
       "      <td>...</td>\n",
       "      <td>...</td>\n",
       "      <td>...</td>\n",
       "      <td>...</td>\n",
       "      <td>...</td>\n",
       "      <td>...</td>\n",
       "    </tr>\n",
       "    <tr>\n",
       "      <th>1104</th>\n",
       "      <td>550308</td>\n",
       "      <td>1412829</td>\n",
       "      <td>POLYGON ((265008.438 3320826.532, 265073.125 3...</td>\n",
       "      <td>1.413612e+06</td>\n",
       "      <td>6.518168e+05</td>\n",
       "      <td>0.461100</td>\n",
       "      <td>1002.414813</td>\n",
       "      <td>4.0</td>\n",
       "      <td>0.000003</td>\n",
       "    </tr>\n",
       "    <tr>\n",
       "      <th>1107</th>\n",
       "      <td>520603</td>\n",
       "      <td>353492</td>\n",
       "      <td>POLYGON ((259416.903 3300406.019, 259526.988 3...</td>\n",
       "      <td>3.537148e+05</td>\n",
       "      <td>3.231993e+05</td>\n",
       "      <td>0.913729</td>\n",
       "      <td>389.535525</td>\n",
       "      <td>2.0</td>\n",
       "      <td>0.000006</td>\n",
       "    </tr>\n",
       "    <tr>\n",
       "      <th>1108</th>\n",
       "      <td>521201</td>\n",
       "      <td>481055</td>\n",
       "      <td>POLYGON ((257748.936 3300477.796, 257814.968 3...</td>\n",
       "      <td>4.813665e+05</td>\n",
       "      <td>4.396867e+05</td>\n",
       "      <td>0.913413</td>\n",
       "      <td>438.237515</td>\n",
       "      <td>5.0</td>\n",
       "      <td>0.000010</td>\n",
       "    </tr>\n",
       "    <tr>\n",
       "      <th>1112</th>\n",
       "      <td>532004</td>\n",
       "      <td>1569963</td>\n",
       "      <td>POLYGON ((261075.078 3305612.972, 261094.859 3...</td>\n",
       "      <td>1.601924e+06</td>\n",
       "      <td>1.103814e+06</td>\n",
       "      <td>0.689055</td>\n",
       "      <td>1241.484551</td>\n",
       "      <td>10.0</td>\n",
       "      <td>0.000006</td>\n",
       "    </tr>\n",
       "    <tr>\n",
       "      <th>1113</th>\n",
       "      <td>532003</td>\n",
       "      <td>1010818</td>\n",
       "      <td>POLYGON ((260358.680 3306494.276, 260413.920 3...</td>\n",
       "      <td>1.023628e+06</td>\n",
       "      <td>7.460671e+05</td>\n",
       "      <td>0.728846</td>\n",
       "      <td>1467.522349</td>\n",
       "      <td>6.0</td>\n",
       "      <td>0.000006</td>\n",
       "    </tr>\n",
       "  </tbody>\n",
       "</table>\n",
       "<p>693 rows × 9 columns</p>\n",
       "</div>"
      ],
      "text/plain": [
       "      TRACTCE    ALAND                                           geometry  \\\n",
       "1      310101  2195579  POLYGON ((271927.745 3293387.928, 271992.230 3...   \n",
       "2      510301  1435445  POLYGON ((269126.066 3296490.542, 269158.227 3...   \n",
       "3      311001   830347  POLYGON ((276595.309 3292581.127, 276613.100 3...   \n",
       "5      211302  1584213  POLYGON ((274176.668 3295729.241, 274255.697 3...   \n",
       "7      100001  2550360  POLYGON ((270387.021 3294289.752, 270390.295 3...   \n",
       "...       ...      ...                                                ...   \n",
       "1104   550308  1412829  POLYGON ((265008.438 3320826.532, 265073.125 3...   \n",
       "1107   520603   353492  POLYGON ((259416.903 3300406.019, 259526.988 3...   \n",
       "1108   521201   481055  POLYGON ((257748.936 3300477.796, 257814.968 3...   \n",
       "1112   532004  1569963  POLYGON ((261075.078 3305612.972, 261094.859 3...   \n",
       "1113   532003  1010818  POLYGON ((260358.680 3306494.276, 260413.920 3...   \n",
       "\n",
       "              area  area_covered  service_coverage       routesum  bus_stops  \\\n",
       "1     2.217311e+06  1.954668e+06          0.881549    5434.509409       29.0   \n",
       "2     1.466320e+06  1.392952e+06          0.949965   14712.583899       15.0   \n",
       "3     8.560404e+05  8.224577e+05          0.960770    1947.002660       16.0   \n",
       "5     1.584917e+06  1.453638e+06          0.917169   10357.590861       36.0   \n",
       "7     2.580593e+06  2.511420e+06          0.973195  109651.567648      108.0   \n",
       "...            ...           ...               ...            ...        ...   \n",
       "1104  1.413612e+06  6.518168e+05          0.461100    1002.414813        4.0   \n",
       "1107  3.537148e+05  3.231993e+05          0.913729     389.535525        2.0   \n",
       "1108  4.813665e+05  4.396867e+05          0.913413     438.237515        5.0   \n",
       "1112  1.601924e+06  1.103814e+06          0.689055    1241.484551       10.0   \n",
       "1113  1.023628e+06  7.460671e+05          0.728846    1467.522349        6.0   \n",
       "\n",
       "      density_bstops  \n",
       "1           0.000013  \n",
       "2           0.000010  \n",
       "3           0.000019  \n",
       "5           0.000023  \n",
       "7           0.000042  \n",
       "...              ...  \n",
       "1104        0.000003  \n",
       "1107        0.000006  \n",
       "1108        0.000010  \n",
       "1112        0.000006  \n",
       "1113        0.000006  \n",
       "\n",
       "[693 rows x 9 columns]"
      ]
     },
     "execution_count": 32,
     "metadata": {},
     "output_type": "execute_result"
    }
   ],
   "source": [
    "# Remove tracts with null values\n",
    "county_dropped = county_tracts.dropna()"
   ]
  },
  {
   "cell_type": "code",
   "execution_count": 33,
   "id": "bfc391ae-8530-49a5-a5f5-bd28e63449da",
   "metadata": {
    "collapsed": true,
    "jupyter": {
     "outputs_hidden": true
    }
   },
   "outputs": [
    {
     "name": "stdout",
     "output_type": "stream",
     "text": [
      "\n",
      "DataFrame with z-scores:\n",
      "      TRACTCE    ALAND                                           geometry  \\\n",
      "1      310101  2195579  POLYGON ((271927.745 3293387.928, 271992.230 3...   \n",
      "2      510301  1435445  POLYGON ((269126.066 3296490.542, 269158.227 3...   \n",
      "3      311001   830347  POLYGON ((276595.309 3292581.127, 276613.100 3...   \n",
      "5      211302  1584213  POLYGON ((274176.668 3295729.241, 274255.697 3...   \n",
      "7      100001  2550360  POLYGON ((270387.021 3294289.752, 270390.295 3...   \n",
      "...       ...      ...                                                ...   \n",
      "1104   550308  1412829  POLYGON ((265008.438 3320826.532, 265073.125 3...   \n",
      "1107   520603   353492  POLYGON ((259416.903 3300406.019, 259526.988 3...   \n",
      "1108   521201   481055  POLYGON ((257748.936 3300477.796, 257814.968 3...   \n",
      "1112   532004  1569963  POLYGON ((261075.078 3305612.972, 261094.859 3...   \n",
      "1113   532003  1010818  POLYGON ((260358.680 3306494.276, 260413.920 3...   \n",
      "\n",
      "              area  area_covered  service_coverage   routesum  bus_stops  \\\n",
      "1     2.217311e+06  1.954668e+06          0.683591  -0.013652       29.0   \n",
      "2     1.466320e+06  1.392952e+06          0.935115   1.120303       15.0   \n",
      "3     8.560404e+05  8.224577e+05          0.974840  -0.439891       16.0   \n",
      "5     1.584917e+06  1.453638e+06          0.814548   0.588041       36.0   \n",
      "7     2.580593e+06  2.511420e+06          1.020519  12.723635      108.0   \n",
      "...            ...           ...               ...        ...        ...   \n",
      "1104  1.413612e+06  6.518168e+05         -0.862145  -0.555338        4.0   \n",
      "1107  3.537148e+05  3.231993e+05          0.801898  -0.630243        2.0   \n",
      "1108  4.813665e+05  4.396867e+05          0.800739  -0.624291        5.0   \n",
      "1112  1.601924e+06  1.103814e+06         -0.024091  -0.526119       10.0   \n",
      "1113  1.023628e+06  7.460671e+05          0.122195  -0.498493        6.0   \n",
      "\n",
      "      density_bstops  \n",
      "1           0.623208  \n",
      "2           0.207655  \n",
      "3           1.441678  \n",
      "5           2.028484  \n",
      "7           4.819537  \n",
      "...              ...  \n",
      "1104       -0.871628  \n",
      "1107       -0.459660  \n",
      "1108        0.230613  \n",
      "1112       -0.373869  \n",
      "1113       -0.429435  \n",
      "\n",
      "[693 rows x 9 columns]\n"
     ]
    }
   ],
   "source": [
    "# Standarize Data\n",
    "columns_to_standardize = ['service_coverage','density_bstops','routesum']\n",
    "\n",
    "# Calculate z-scores for the specified columns\n",
    "county_dropped[columns_to_standardize] = county_dropped[columns_to_standardize].apply(zscore)"
   ]
  },
  {
   "cell_type": "code",
   "execution_count": 34,
   "id": "34bffeee-263f-4ea6-abf5-4b271f927eca",
   "metadata": {
    "collapsed": true,
    "jupyter": {
     "outputs_hidden": true
    }
   },
   "outputs": [
    {
     "name": "stdout",
     "output_type": "stream",
     "text": [
      "\n",
      "DataFrame with transit supply scores:\n",
      "      TRACTCE    ALAND                                           geometry  \\\n",
      "1      310101  2195579  POLYGON ((271927.745 3293387.928, 271992.230 3...   \n",
      "2      510301  1435445  POLYGON ((269126.066 3296490.542, 269158.227 3...   \n",
      "3      311001   830347  POLYGON ((276595.309 3292581.127, 276613.100 3...   \n",
      "5      211302  1584213  POLYGON ((274176.668 3295729.241, 274255.697 3...   \n",
      "7      100001  2550360  POLYGON ((270387.021 3294289.752, 270390.295 3...   \n",
      "...       ...      ...                                                ...   \n",
      "1104   550308  1412829  POLYGON ((265008.438 3320826.532, 265073.125 3...   \n",
      "1107   520603   353492  POLYGON ((259416.903 3300406.019, 259526.988 3...   \n",
      "1108   521201   481055  POLYGON ((257748.936 3300477.796, 257814.968 3...   \n",
      "1112   532004  1569963  POLYGON ((261075.078 3305612.972, 261094.859 3...   \n",
      "1113   532003  1010818  POLYGON ((260358.680 3306494.276, 260413.920 3...   \n",
      "\n",
      "              area  area_covered  service_coverage   routesum  bus_stops  \\\n",
      "1     2.217311e+06  1.954668e+06          0.683591  -0.013652       29.0   \n",
      "2     1.466320e+06  1.392952e+06          0.935115   1.120303       15.0   \n",
      "3     8.560404e+05  8.224577e+05          0.974840  -0.439891       16.0   \n",
      "5     1.584917e+06  1.453638e+06          0.814548   0.588041       36.0   \n",
      "7     2.580593e+06  2.511420e+06          1.020519  12.723635      108.0   \n",
      "...            ...           ...               ...        ...        ...   \n",
      "1104  1.413612e+06  6.518168e+05         -0.862145  -0.555338        4.0   \n",
      "1107  3.537148e+05  3.231993e+05          0.801898  -0.630243        2.0   \n",
      "1108  4.813665e+05  4.396867e+05          0.800739  -0.624291        5.0   \n",
      "1112  1.601924e+06  1.103814e+06         -0.024091  -0.526119       10.0   \n",
      "1113  1.023628e+06  7.460671e+05          0.122195  -0.498493        6.0   \n",
      "\n",
      "      density_bstops  transit_supply_score  \n",
      "1           0.623208              1.293146  \n",
      "2           0.207655              2.263074  \n",
      "3           1.441678              1.976626  \n",
      "5           2.028484              3.431073  \n",
      "7           4.819537             18.563691  \n",
      "...              ...                   ...  \n",
      "1104       -0.871628             -2.289111  \n",
      "1107       -0.459660             -0.288005  \n",
      "1108        0.230613              0.407061  \n",
      "1112       -0.373869             -0.924079  \n",
      "1113       -0.429435             -0.805733  \n",
      "\n",
      "[693 rows x 10 columns]\n"
     ]
    }
   ],
   "source": [
    "# Sum the z-scores across the specified columns\n",
    "county_dropped['transit_supply_score'] = county_dropped[columns_to_standardize].sum(axis=1)"
   ]
  },
  {
   "cell_type": "code",
   "execution_count": 35,
   "id": "4082fb0c-db1f-473b-aa0c-b1d394f85980",
   "metadata": {
    "collapsed": true,
    "jupyter": {
     "outputs_hidden": true
    }
   },
   "outputs": [
    {
     "name": "stdout",
     "output_type": "stream",
     "text": [
      "\n",
      "DataFrame with transit supply score quartiles:\n",
      "      TRACTCE    ALAND                                           geometry  \\\n",
      "1      310101  2195579  POLYGON ((271927.745 3293387.928, 271992.230 3...   \n",
      "2      510301  1435445  POLYGON ((269126.066 3296490.542, 269158.227 3...   \n",
      "3      311001   830347  POLYGON ((276595.309 3292581.127, 276613.100 3...   \n",
      "5      211302  1584213  POLYGON ((274176.668 3295729.241, 274255.697 3...   \n",
      "7      100001  2550360  POLYGON ((270387.021 3294289.752, 270390.295 3...   \n",
      "...       ...      ...                                                ...   \n",
      "1104   550308  1412829  POLYGON ((265008.438 3320826.532, 265073.125 3...   \n",
      "1107   520603   353492  POLYGON ((259416.903 3300406.019, 259526.988 3...   \n",
      "1108   521201   481055  POLYGON ((257748.936 3300477.796, 257814.968 3...   \n",
      "1112   532004  1569963  POLYGON ((261075.078 3305612.972, 261094.859 3...   \n",
      "1113   532003  1010818  POLYGON ((260358.680 3306494.276, 260413.920 3...   \n",
      "\n",
      "              area  area_covered  service_coverage   routesum  bus_stops  \\\n",
      "1     2.217311e+06  1.954668e+06          0.683591  -0.013652       29.0   \n",
      "2     1.466320e+06  1.392952e+06          0.935115   1.120303       15.0   \n",
      "3     8.560404e+05  8.224577e+05          0.974840  -0.439891       16.0   \n",
      "5     1.584917e+06  1.453638e+06          0.814548   0.588041       36.0   \n",
      "7     2.580593e+06  2.511420e+06          1.020519  12.723635      108.0   \n",
      "...            ...           ...               ...        ...        ...   \n",
      "1104  1.413612e+06  6.518168e+05         -0.862145  -0.555338        4.0   \n",
      "1107  3.537148e+05  3.231993e+05          0.801898  -0.630243        2.0   \n",
      "1108  4.813665e+05  4.396867e+05          0.800739  -0.624291        5.0   \n",
      "1112  1.601924e+06  1.103814e+06         -0.024091  -0.526119       10.0   \n",
      "1113  1.023628e+06  7.460671e+05          0.122195  -0.498493        6.0   \n",
      "\n",
      "      density_bstops  transit_supply_score       quartile  \n",
      "1           0.623208              1.293146  Moderate-High  \n",
      "2           0.207655              2.263074           High  \n",
      "3           1.441678              1.976626           High  \n",
      "5           2.028484              3.431073           High  \n",
      "7           4.819537             18.563691           High  \n",
      "...              ...                   ...            ...  \n",
      "1104       -0.871628             -2.289111            Low  \n",
      "1107       -0.459660             -0.288005   Moderate-Low  \n",
      "1108        0.230613              0.407061  Moderate-High  \n",
      "1112       -0.373869             -0.924079   Moderate-Low  \n",
      "1113       -0.429435             -0.805733   Moderate-Low  \n",
      "\n",
      "[693 rows x 11 columns]\n"
     ]
    }
   ],
   "source": [
    "# Group the transit supply scores into quartiles\n",
    "county_dropped['quartile'] = pd.qcut(county_dropped['transit_supply_score'], 4, labels=['Low', 'Moderate-Low', 'Moderate-High', 'High'])"
   ]
  },
  {
   "cell_type": "code",
   "execution_count": 70,
   "id": "63aca108-f492-4829-a67c-62e30b6f817c",
   "metadata": {
    "collapsed": true,
    "jupyter": {
     "outputs_hidden": true
    }
   },
   "outputs": [],
   "source": [
    "gdf = gpd.GeoDataFrame(county_dropped, geometry=county_dropped['geometry'])"
   ]
  },
  {
   "cell_type": "code",
   "execution_count": 87,
   "id": "c3d31a4f-9250-4dee-aefc-be948855380a",
   "metadata": {},
   "outputs": [
    {
     "data": {
      "text/html": [
       "<div>\n",
       "<style scoped>\n",
       "    .dataframe tbody tr th:only-of-type {\n",
       "        vertical-align: middle;\n",
       "    }\n",
       "\n",
       "    .dataframe tbody tr th {\n",
       "        vertical-align: top;\n",
       "    }\n",
       "\n",
       "    .dataframe thead th {\n",
       "        text-align: right;\n",
       "    }\n",
       "</style>\n",
       "<table border=\"1\" class=\"dataframe\">\n",
       "  <thead>\n",
       "    <tr style=\"text-align: right;\">\n",
       "      <th></th>\n",
       "      <th>TRACTCE</th>\n",
       "      <th>ALAND</th>\n",
       "      <th>geometry</th>\n",
       "      <th>area</th>\n",
       "      <th>area_covered</th>\n",
       "      <th>service_coverage</th>\n",
       "      <th>routesum</th>\n",
       "      <th>bus_stops</th>\n",
       "      <th>density_bstops</th>\n",
       "      <th>transit_supply_score</th>\n",
       "      <th>quartile</th>\n",
       "    </tr>\n",
       "  </thead>\n",
       "  <tbody>\n",
       "    <tr>\n",
       "      <th>1</th>\n",
       "      <td>310101</td>\n",
       "      <td>2195579</td>\n",
       "      <td>POLYGON ((-10615258.438 3471424.851, -10615186...</td>\n",
       "      <td>2.217311e+06</td>\n",
       "      <td>1.954668e+06</td>\n",
       "      <td>0.683591</td>\n",
       "      <td>-0.013652</td>\n",
       "      <td>29.0</td>\n",
       "      <td>0.623208</td>\n",
       "      <td>1.293146</td>\n",
       "      <td>Moderate-High</td>\n",
       "    </tr>\n",
       "    <tr>\n",
       "      <th>2</th>\n",
       "      <td>510301</td>\n",
       "      <td>1435445</td>\n",
       "      <td>POLYGON ((-10618555.165 3474945.831, -10618518...</td>\n",
       "      <td>1.466320e+06</td>\n",
       "      <td>1.392952e+06</td>\n",
       "      <td>0.935115</td>\n",
       "      <td>1.120303</td>\n",
       "      <td>15.0</td>\n",
       "      <td>0.207655</td>\n",
       "      <td>2.263074</td>\n",
       "      <td>High</td>\n",
       "    </tr>\n",
       "    <tr>\n",
       "      <th>3</th>\n",
       "      <td>311001</td>\n",
       "      <td>830347</td>\n",
       "      <td>POLYGON ((-10609870.464 3470601.201, -10609850...</td>\n",
       "      <td>8.560404e+05</td>\n",
       "      <td>8.224577e+05</td>\n",
       "      <td>0.974840</td>\n",
       "      <td>-0.439891</td>\n",
       "      <td>16.0</td>\n",
       "      <td>1.441678</td>\n",
       "      <td>1.976626</td>\n",
       "      <td>High</td>\n",
       "    </tr>\n",
       "    <tr>\n",
       "      <th>5</th>\n",
       "      <td>211302</td>\n",
       "      <td>1584213</td>\n",
       "      <td>POLYGON ((-10612725.920 3474185.052, -10612634...</td>\n",
       "      <td>1.584917e+06</td>\n",
       "      <td>1.453638e+06</td>\n",
       "      <td>0.814548</td>\n",
       "      <td>0.588041</td>\n",
       "      <td>36.0</td>\n",
       "      <td>2.028484</td>\n",
       "      <td>3.431073</td>\n",
       "      <td>High</td>\n",
       "    </tr>\n",
       "    <tr>\n",
       "      <th>7</th>\n",
       "      <td>100001</td>\n",
       "      <td>2550360</td>\n",
       "      <td>POLYGON ((-10617052.129 3472431.021, -10617048...</td>\n",
       "      <td>2.580593e+06</td>\n",
       "      <td>2.511420e+06</td>\n",
       "      <td>1.020519</td>\n",
       "      <td>12.723635</td>\n",
       "      <td>108.0</td>\n",
       "      <td>4.819537</td>\n",
       "      <td>18.563691</td>\n",
       "      <td>High</td>\n",
       "    </tr>\n",
       "    <tr>\n",
       "      <th>...</th>\n",
       "      <td>...</td>\n",
       "      <td>...</td>\n",
       "      <td>...</td>\n",
       "      <td>...</td>\n",
       "      <td>...</td>\n",
       "      <td>...</td>\n",
       "      <td>...</td>\n",
       "      <td>...</td>\n",
       "      <td>...</td>\n",
       "      <td>...</td>\n",
       "      <td>...</td>\n",
       "    </tr>\n",
       "    <tr>\n",
       "      <th>1104</th>\n",
       "      <td>550308</td>\n",
       "      <td>1412829</td>\n",
       "      <td>POLYGON ((-10623886.478 3503019.496, -10623812...</td>\n",
       "      <td>1.413612e+06</td>\n",
       "      <td>6.518168e+05</td>\n",
       "      <td>-0.862145</td>\n",
       "      <td>-0.555338</td>\n",
       "      <td>4.0</td>\n",
       "      <td>-0.871628</td>\n",
       "      <td>-2.289111</td>\n",
       "      <td>Low</td>\n",
       "    </tr>\n",
       "    <tr>\n",
       "      <th>1107</th>\n",
       "      <td>520603</td>\n",
       "      <td>353492</td>\n",
       "      <td>POLYGON ((-10629823.592 3479236.892, -10629696...</td>\n",
       "      <td>3.537148e+05</td>\n",
       "      <td>3.231993e+05</td>\n",
       "      <td>0.801898</td>\n",
       "      <td>-0.630243</td>\n",
       "      <td>2.0</td>\n",
       "      <td>-0.459660</td>\n",
       "      <td>-0.288005</td>\n",
       "      <td>Moderate-Low</td>\n",
       "    </tr>\n",
       "    <tr>\n",
       "      <th>1108</th>\n",
       "      <td>521201</td>\n",
       "      <td>481055</td>\n",
       "      <td>POLYGON ((-10631745.078 3479278.075, -10631669...</td>\n",
       "      <td>4.813665e+05</td>\n",
       "      <td>4.396867e+05</td>\n",
       "      <td>0.800739</td>\n",
       "      <td>-0.624291</td>\n",
       "      <td>5.0</td>\n",
       "      <td>0.230613</td>\n",
       "      <td>0.407061</td>\n",
       "      <td>Moderate-High</td>\n",
       "    </tr>\n",
       "    <tr>\n",
       "      <th>1112</th>\n",
       "      <td>532004</td>\n",
       "      <td>1569963</td>\n",
       "      <td>POLYGON ((-10628043.927 3485302.907, -10628021...</td>\n",
       "      <td>1.601924e+06</td>\n",
       "      <td>1.103814e+06</td>\n",
       "      <td>-0.024091</td>\n",
       "      <td>-0.526119</td>\n",
       "      <td>10.0</td>\n",
       "      <td>-0.373869</td>\n",
       "      <td>-0.924079</td>\n",
       "      <td>Moderate-Low</td>\n",
       "    </tr>\n",
       "    <tr>\n",
       "      <th>1113</th>\n",
       "      <td>532003</td>\n",
       "      <td>1010818</td>\n",
       "      <td>POLYGON ((-10628890.734 3486305.032, -10628826...</td>\n",
       "      <td>1.023628e+06</td>\n",
       "      <td>7.460671e+05</td>\n",
       "      <td>0.122195</td>\n",
       "      <td>-0.498493</td>\n",
       "      <td>6.0</td>\n",
       "      <td>-0.429435</td>\n",
       "      <td>-0.805733</td>\n",
       "      <td>Moderate-Low</td>\n",
       "    </tr>\n",
       "  </tbody>\n",
       "</table>\n",
       "<p>693 rows × 11 columns</p>\n",
       "</div>"
      ],
      "text/plain": [
       "      TRACTCE    ALAND                                           geometry  \\\n",
       "1      310101  2195579  POLYGON ((-10615258.438 3471424.851, -10615186...   \n",
       "2      510301  1435445  POLYGON ((-10618555.165 3474945.831, -10618518...   \n",
       "3      311001   830347  POLYGON ((-10609870.464 3470601.201, -10609850...   \n",
       "5      211302  1584213  POLYGON ((-10612725.920 3474185.052, -10612634...   \n",
       "7      100001  2550360  POLYGON ((-10617052.129 3472431.021, -10617048...   \n",
       "...       ...      ...                                                ...   \n",
       "1104   550308  1412829  POLYGON ((-10623886.478 3503019.496, -10623812...   \n",
       "1107   520603   353492  POLYGON ((-10629823.592 3479236.892, -10629696...   \n",
       "1108   521201   481055  POLYGON ((-10631745.078 3479278.075, -10631669...   \n",
       "1112   532004  1569963  POLYGON ((-10628043.927 3485302.907, -10628021...   \n",
       "1113   532003  1010818  POLYGON ((-10628890.734 3486305.032, -10628826...   \n",
       "\n",
       "              area  area_covered  service_coverage   routesum  bus_stops  \\\n",
       "1     2.217311e+06  1.954668e+06          0.683591  -0.013652       29.0   \n",
       "2     1.466320e+06  1.392952e+06          0.935115   1.120303       15.0   \n",
       "3     8.560404e+05  8.224577e+05          0.974840  -0.439891       16.0   \n",
       "5     1.584917e+06  1.453638e+06          0.814548   0.588041       36.0   \n",
       "7     2.580593e+06  2.511420e+06          1.020519  12.723635      108.0   \n",
       "...            ...           ...               ...        ...        ...   \n",
       "1104  1.413612e+06  6.518168e+05         -0.862145  -0.555338        4.0   \n",
       "1107  3.537148e+05  3.231993e+05          0.801898  -0.630243        2.0   \n",
       "1108  4.813665e+05  4.396867e+05          0.800739  -0.624291        5.0   \n",
       "1112  1.601924e+06  1.103814e+06         -0.024091  -0.526119       10.0   \n",
       "1113  1.023628e+06  7.460671e+05          0.122195  -0.498493        6.0   \n",
       "\n",
       "      density_bstops  transit_supply_score       quartile  \n",
       "1           0.623208              1.293146  Moderate-High  \n",
       "2           0.207655              2.263074           High  \n",
       "3           1.441678              1.976626           High  \n",
       "5           2.028484              3.431073           High  \n",
       "7           4.819537             18.563691           High  \n",
       "...              ...                   ...            ...  \n",
       "1104       -0.871628             -2.289111            Low  \n",
       "1107       -0.459660             -0.288005   Moderate-Low  \n",
       "1108        0.230613              0.407061  Moderate-High  \n",
       "1112       -0.373869             -0.924079   Moderate-Low  \n",
       "1113       -0.429435             -0.805733   Moderate-Low  \n",
       "\n",
       "[693 rows x 11 columns]"
      ]
     },
     "execution_count": 87,
     "metadata": {},
     "output_type": "execute_result"
    }
   ],
   "source": [
    "gdf"
   ]
  },
  {
   "cell_type": "code",
   "execution_count": 88,
   "id": "c33509da-863c-4795-a6a3-f8f97f3d8c3d",
   "metadata": {
    "scrolled": true
   },
   "outputs": [
    {
     "name": "stderr",
     "output_type": "stream",
     "text": [
      "WARNING:fiona._env:Normalized/laundered field name: 'area_covered' to 'area_cover'\n",
      "WARNING:fiona._env:Normalized/laundered field name: 'service_coverage' to 'service_co'\n",
      "WARNING:fiona._env:Normalized/laundered field name: 'density_bstops' to 'density_bs'\n",
      "WARNING:fiona._env:Normalized/laundered field name: 'transit_supply_score' to 'transit_su'\n"
     ]
    }
   ],
   "source": [
    "# Convert the categorical column to a string\n",
    "gdf['quartile'] = gdf['quartile'].astype(str)\n",
    "\n",
    "\n",
    "gdf.to_file(r\"C:\\Users\\cathk\\GEOG490\\houston_transit_supply.shp\")"
   ]
  },
  {
   "cell_type": "code",
   "execution_count": 40,
   "id": "7e389535-9a79-44d7-88b7-e653be19384d",
   "metadata": {},
   "outputs": [
    {
     "name": "stdout",
     "output_type": "stream",
     "text": [
      "quartile\n",
      "Low              174\n",
      "Moderate-High    173\n",
      "High             173\n",
      "Moderate-Low     173\n",
      "Name: count, dtype: int64\n"
     ]
    },
    {
     "data": {
      "image/png": "[encoded data removed]",
      "text/plain": [
       "<Figure size 1000x1000 with 1 Axes>"
      ]
     },
     "metadata": {},
     "output_type": "display_data"
    }
   ],
   "source": [
    "# Plot census tracts by transit supply quartile\n",
    "\n",
    "# Ensure 'quartile' column exists and contains the expected values\n",
    "print(gdf['quartile'].value_counts())\n",
    "\n",
    "# Define a color map for the quartiles\n",
    "quartile_colors = {\n",
    "    'Low': 'blue',\n",
    "    'Moderate-Low': 'cyan',\n",
    "    'Moderate-High': 'orange',\n",
    "    'High': 'red'\n",
    "}\n",
    "\n",
    "# Plot the GeoDataFrame with the specified colors for quartiles\n",
    "fig, ax = plt.subplots(1, 1, figsize=(10, 10))\n",
    "\n",
    "gdf.plot(column='quartile', \n",
    "         ax=ax, \n",
    "         legend=True,\n",
    "         legend_kwds={'title': \"Transit Supply Quartiles\"},\n",
    "         color=[quartile_colors[q] for q in gdf['quartile']])\n",
    "\n",
    "# Add a title and axes labels\n",
    "ax.set_title('Transit Supply by Census Tract')\n",
    "ax.set_axis_off()\n",
    "\n",
    "# Show the plot\n",
    "plt.show()"
   ]
  }
 ],
 "metadata": {
  "kernelspec": {
   "display_name": "Python 3 (ipykernel)",
   "language": "python",
   "name": "python3"
  },
  "language_info": {
   "codemirror_mode": {
    "name": "ipython",
    "version": 3
   },
   "file_extension": ".py",
   "mimetype": "text/x-python",
   "name": "python",
   "nbconvert_exporter": "python",
   "pygments_lexer": "ipython3",
   "version": "3.8.17"
  }
 },
 "nbformat": 4,
 "nbformat_minor": 5
}
